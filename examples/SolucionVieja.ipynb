{
  "cells": [
    {
      "cell_type": "markdown",
      "metadata": {
        "id": "6dnz7fU3th39"
      },
      "source": [
        "# Laboratorio 2 - Clasificador de rostros"
      ]
    },
    {
      "cell_type": "markdown",
      "metadata": {
        "id": "23l6on1WtsUH"
      },
      "source": [
        "**Autores**\n",
        "\n",
        "*   [214205] Enrique, Oliva\n",
        "*   [192680] Martina, Severo\n",
        "*   [229484] Santiago, Tonarelli"
      ]
    },
    {
      "cell_type": "markdown",
      "metadata": {
        "id": "RK05s2wOuUlG"
      },
      "source": [
        "**Formato de entrega**:\n",
        "\n",
        "* Esta misma notebook en formato .ipynb\n",
        "* Cambiar el nombre de la notebook por NumEst1_NumEst2_NumEst3_Lab_1.\n",
        "* Es importante que la notebook pueda ejecutarse sin problemas al seleccionar 'Ejecutar todo'.\n",
        "* Se considerará que sus datos pueden estar en otra localización.\n",
        "\n",
        "\n",
        "**Plazo de entrega**: hasta el Domingo 16/06 a las 23:59 horas a través de Aulas."
      ]
    },
    {
      "cell_type": "markdown",
      "metadata": {
        "id": "f3gWXrB8J4sp"
      },
      "source": [
        "**Objetivo**: implementar un algoritmo de clasificación que permita predecir si una imagen dada es un rostro o no."
      ]
    },
    {
      "cell_type": "markdown",
      "metadata": {
        "id": "4bKDk0S2NgSf"
      },
      "source": [
        "## Librerías"
      ]
    },
    {
      "cell_type": "code",
      "execution_count": 1,
      "metadata": {},
      "outputs": [
        {
          "name": "stdout",
          "output_type": "stream",
          "text": [
            "Requirement already satisfied: scikit-learn in c:\\users\\santiago\\.pyenv\\pyenv-win\\versions\\3.12.1\\lib\\site-packages (1.5.0)\n",
            "Requirement already satisfied: numpy>=1.19.5 in c:\\users\\santiago\\.pyenv\\pyenv-win\\versions\\3.12.1\\lib\\site-packages (from scikit-learn) (1.26.4)\n",
            "Requirement already satisfied: scipy>=1.6.0 in c:\\users\\santiago\\.pyenv\\pyenv-win\\versions\\3.12.1\\lib\\site-packages (from scikit-learn) (1.13.1)\n",
            "Requirement already satisfied: joblib>=1.2.0 in c:\\users\\santiago\\.pyenv\\pyenv-win\\versions\\3.12.1\\lib\\site-packages (from scikit-learn) (1.4.2)\n",
            "Requirement already satisfied: threadpoolctl>=3.1.0 in c:\\users\\santiago\\.pyenv\\pyenv-win\\versions\\3.12.1\\lib\\site-packages (from scikit-learn) (3.5.0)\n",
            "Note: you may need to restart the kernel to use updated packages.\n"
          ]
        },
        {
          "name": "stderr",
          "output_type": "stream",
          "text": [
            "\n",
            "[notice] A new release of pip is available: 23.2.1 -> 24.1\n",
            "[notice] To update, run: c:\\Users\\Santiago\\.pyenv\\pyenv-win\\versions\\3.12.1\\python.exe -m pip install --upgrade pip\n"
          ]
        }
      ],
      "source": [
        "%pip install scikit-learn"
      ]
    },
    {
      "cell_type": "code",
      "execution_count": 2,
      "metadata": {
        "id": "ok5jVlyOJyEx"
      },
      "outputs": [],
      "source": [
        "import os\n",
        "from tqdm import tqdm\n",
        "from time import time\n",
        "\n",
        "import random\n",
        "import numpy as np\n",
        "import matplotlib.pyplot as plt\n",
        "\n",
        "from skimage.exposure import equalize_hist\n",
        "\n",
        "from skimage.transform import integral_image\n",
        "from skimage.feature import haar_like_feature, haar_like_feature_coord\n",
        "\n",
        "from sklearn.feature_selection import SelectPercentile, f_classif\n",
        "\n",
        "import zipfile\n",
        "import os\n",
        "\n",
        "from random import sample\n",
        "from skimage.transform import resize\n",
        "from skimage import data, color\n",
        "from sklearn.feature_extraction.image import PatchExtractor\n",
        "from sklearn.metrics import confusion_matrix, f1_score, classification_report\n",
        "\n",
        "from sklearn.model_selection import train_test_split"
      ]
    },
    {
      "cell_type": "markdown",
      "metadata": {
        "id": "rDNFQiGAjpTc"
      },
      "source": [
        "## Funciones auxiliares"
      ]
    },
    {
      "cell_type": "code",
      "execution_count": 3,
      "metadata": {
        "id": "zglTUt0Ajss_"
      },
      "outputs": [],
      "source": [
        "def extract_feature_image(img, feature_type=None, feature_coord=None):\n",
        "    \"\"\"Extrae las Haar features de la imagen\"\"\"\n",
        "    ii = integral_image(img)\n",
        "    return haar_like_feature(ii, 0, 0, ii.shape[0], ii.shape[1],\n",
        "                             feature_type=feature_type,\n",
        "                             feature_coord=feature_coord)\n"
      ]
    },
    {
      "cell_type": "code",
      "execution_count": 4,
      "metadata": {},
      "outputs": [],
      "source": [
        "# Función para imprimir resultados de la F1 Score\n",
        "def print_f1_results(accuracies, text=\"\"):\n",
        "    print(\"----------------------------------\")\n",
        "    print(text)\n",
        "    print(\"----------------------------------\")\n",
        "\n",
        "    for i, scores in enumerate(accuracies, 1):\n",
        "        print(f\"Fold {i}:\")\n",
        "        print(f\"Clase 0: {scores[0]}\")\n",
        "        print(f\"Clase 1: {scores[1]}\")\n",
        "        print(\"\")\n",
        "\n",
        "    average_scores = np.mean(accuracies, axis=0)\n",
        "    print(f\"Promedio F1 por Clase:\")\n",
        "    print(f\"Clase 0: {average_scores[0]}\")\n",
        "    print(f\"Clase 1: {average_scores[1]}\")\n"
      ]
    },
    {
      "cell_type": "code",
      "execution_count": null,
      "metadata": {},
      "outputs": [],
      "source": [
        "# Función para extraer porciones de una imagen\n",
        "def extract_patches(img, N, scale=1.0, patch_size=(19,19), random_state=0):\n",
        "    # Calcula el tamaño del parche extraído basado en el factor de escala dado\n",
        "    H = img.shape[0]\n",
        "    W = img.shape[1]\n",
        "    H_patch = min(H , int(scale * patch_size[0]))\n",
        "    W_patch = min(W , int(scale * patch_size[1]))\n",
        "    extracted_patch_size = (H_patch, W_patch)\n",
        "\n",
        "    # Inicializa un objeto PatchExtractor con el tamaño de parche calculado,\n",
        "    # el número máximo de parches, y una semilla de estado aleatorio\n",
        "    extractor = PatchExtractor(patch_size=extracted_patch_size, max_patches=N, random_state=random_state)\n",
        "\n",
        "    # Extrae parches de la imagen dada\n",
        "    # img[np.newaxis] se utiliza la entrada de PatchExtractor es un conjunto de imágenes\n",
        "    patches = extractor.transform(img[np.newaxis])\n",
        "\n",
        "    # Si el factor de escala no es 1, redimensiona cada parche extraído\n",
        "    # al tamaño del parche original\n",
        "    if scale != 1:\n",
        "        patches = np.array([resize(patch, patch_size) for patch in patches])\n",
        "\n",
        "    # Devuelve la lista de parches extraídos (y posiblemente redimensionados)\n",
        "    return patches\n"
      ]
    },
    {
      "cell_type": "code",
      "execution_count": null,
      "metadata": {},
      "outputs": [],
      "source": [
        "# True Positive Rate\n",
        "def tpr_scorer(clf, X, y):\n",
        "    y_pred = clf.predict(X)\n",
        "    cm = confusion_matrix(y, y_pred)\n",
        "    tpr = cm[1,1]/(cm[1,1]+cm[1,0])\n",
        "    return tpr\n",
        "\n",
        "# False Positive Rate\n",
        "def fpr_scorer(clf, X, y):\n",
        "    y_pred = clf.predict(X)\n",
        "    cm = confusion_matrix(y, y_pred)\n",
        "    fpr = cm[0,1]/(cm[0,0]+cm[0,1])\n",
        "    return fpr\n"
      ]
    },
    {
      "cell_type": "markdown",
      "metadata": {
        "id": "bbnCbyXkZZ3K"
      },
      "source": [
        "## Datos"
      ]
    },
    {
      "cell_type": "markdown",
      "metadata": {},
      "source": [
        "**Imágenes de rostros para entrenamiento:**\n",
        "* formato .pgm\n",
        "* 64 x 64 píxeles\n",
        "* 0 - 255 rango de valores\n",
        "* N = 12833 imágenes\n",
        "\n",
        "\n",
        "**Imágenes de test (rostros y fondos sin etiquetar):**\n",
        "* formato .pgm\n",
        "* 19 x 19 píxeles\n",
        "* 0 - 255 rango de valores\n",
        "* N = 7920 imágenes "
      ]
    },
    {
      "cell_type": "code",
      "execution_count": 5,
      "metadata": {},
      "outputs": [],
      "source": [
        "# # colab\n",
        "# !unzip /content/CBCL.zip\n",
        "# !tar -xvzf /content/face.test.tar.gz\n",
        "# !tar -xvzf /content/face.train.tar.gz\n",
        "\n",
        "# # vscode\n",
        "dataset_file = 'content/obligatorio-mlia-2024.zip'\n",
        "background_file = 'content/background.zip'\n",
        "\n",
        "dataset_extract_path = 'content/obligatorio-mlia-2024'\n",
        "background_extract_path = 'content/background'\n",
        "\n",
        "os.makedirs(background_extract_path, exist_ok=True)\n",
        "os.makedirs(dataset_extract_path, exist_ok=True)\n",
        "\n",
        "with zipfile.ZipFile(dataset_file, 'r') as zip_ref:\n",
        "    zip_ref.extractall(dataset_extract_path)\n",
        "\n",
        "with zipfile.ZipFile(background_file, 'r') as zip_ref:\n",
        "    zip_ref.extractall(background_extract_path)\n"
      ]
    },
    {
      "cell_type": "code",
      "execution_count": 5,
      "metadata": {
        "id": "bdpH_jV5ZbRU"
      },
      "outputs": [],
      "source": [
        "suffix = '.pgm'\n",
        "\n",
        "faces = os.listdir('{dataset_extract_path}/Faces/Faces')\n",
        "faces = [filename for filename in faces if filename.endswith(suffix)]\n",
        "\n",
        "print(f'# Faces: {len(faces)}')\n"
      ]
    },
    {
      "cell_type": "code",
      "execution_count": null,
      "metadata": {},
      "outputs": [],
      "source": [
        "# Tamaño de las imágenes de rostros\n",
        "size = (19,19)\n",
        "\n",
        "n_faces = 1000\n",
        "sample_faces = sample(faces, n_faces)\n",
        "\n",
        "im_faces = []\n",
        "for filename in tqdm(sample_faces):\n",
        "    path = '{dataset_extract_path}/Faces/Faces/' + filename\n",
        "    with open(path, 'rb') as pgmf:\n",
        "        image = plt.imread(pgmf)\n",
        "        image = resize(image, size)\n",
        "    im_faces.append(image)\n"
      ]
    },
    {
      "cell_type": "code",
      "execution_count": null,
      "metadata": {},
      "outputs": [],
      "source": [
        "# Visualización de las imágenes de rostros\n",
        "K = 16\n",
        "indices = sample(range(n_faces),k=K)\n",
        "\n",
        "fig, ax = plt.subplots(4, 4, figsize=(3, 3), subplot_kw=dict(xticks=[], yticks=[]))\n",
        "axes = ax.ravel()\n",
        "\n",
        "for i in range(K):\n",
        "    idx = indices[i]\n",
        "    image = im_faces[idx]\n",
        "    axes[i].imshow(image, cmap='gray')\n",
        "    axes[i].axis('off')\n",
        "    \n",
        "plt.tight_layout()\n",
        "plt.show()"
      ]
    },
    {
      "cell_type": "code",
      "execution_count": null,
      "metadata": {},
      "outputs": [],
      "source": [
        "# Tomamos algunas imágenes de sklearn\n",
        "imgs_skimage = ['text',\n",
        "                'coins',\n",
        "                'moon',\n",
        "                'page',\n",
        "                'clock',\n",
        "                'immunohistochemistry',\n",
        "                'chelsea',\n",
        "                'coffee',\n",
        "                'hubble_deep_field'\n",
        "                ]\n",
        "\n",
        "backgrounds_big = []\n",
        "for name in imgs_skimage:\n",
        "    image = getattr(data, name)()\n",
        "    if len(image.shape) == 3 and image.shape[2] == 3:  # Chequeamos si la imagen es RGB\n",
        "        image = color.rgb2gray(image)\n",
        "    backgrounds_big.append(image)\n",
        "\n",
        "# Imagenes de fondo adicionales\n",
        "for i in range(31):\n",
        "    filename = {background_extract_path} + str(i) + '.jpg'\n",
        "    image = plt.imread(filename)\n",
        "    image = color.rgb2gray(image)\n",
        "    backgrounds_big.append(image)"
      ]
    },
    {
      "cell_type": "code",
      "execution_count": null,
      "metadata": {},
      "outputs": [],
      "source": [
        "# Visualización de las imágenes de fondos\n",
        "fig, ax = plt.subplots(4, 10, figsize=(20, 5), subplot_kw=dict(xticks=[], yticks=[]))\n",
        "axes = ax.ravel()\n",
        "\n",
        "for i in range(len(backgrounds_big)):\n",
        "    image = backgrounds_big[i]\n",
        "    axes[i].imshow(image, cmap='gray')\n",
        "    axes[i].axis('off')\n",
        "\n",
        "plt.tight_layout()"
      ]
    },
    {
      "cell_type": "code",
      "execution_count": null,
      "metadata": {},
      "outputs": [],
      "source": [
        "\n",
        "# Extraer parches de las imágenes de fondo\n",
        "scales = [1,1.5,2,2.5]\n",
        "proportion = 2\n",
        "num_patches = int((proportion * n_faces)/(len(scales) * len(backgrounds_big)))\n",
        "\n",
        "im_backgrounds = np.vstack(\n",
        "    [extract_patches(im_bkgnd, num_patches, scale, random_state=42)\n",
        "    for im_bkgnd in tqdm(backgrounds_big)\n",
        "    for scale in scales]\n",
        "    )\n",
        "\n",
        "print(f'# Back: {len(im_backgrounds)}')"
      ]
    },
    {
      "cell_type": "code",
      "execution_count": null,
      "metadata": {},
      "outputs": [],
      "source": [
        "# Visualización de una muestra\n",
        "fig, ax = plt.subplots(3, 5, figsize=(5,3))\n",
        "for i, axi in enumerate(ax.flat):\n",
        "    axi.imshow(im_backgrounds[100 * i], cmap='gray')\n",
        "    axi.axis('off')\n",
        "plt.tight_layout()\n",
        "plt.show()"
      ]
    },
    {
      "cell_type": "code",
      "execution_count": null,
      "metadata": {},
      "outputs": [],
      "source": [
        "im_faces = np.array(im_faces)\n",
        "\n",
        "print(f'Faces shape: {im_faces.shape}')\n",
        "print(f'Backs shape: {im_backgrounds.shape}')"
      ]
    },
    {
      "cell_type": "code",
      "execution_count": null,
      "metadata": {},
      "outputs": [],
      "source": [
        "Im_train = np.vstack([im_faces, im_backgrounds])\n",
        "print(f'Images shape: {Im_train.shape}')"
      ]
    },
    {
      "cell_type": "code",
      "execution_count": null,
      "metadata": {},
      "outputs": [],
      "source": [
        "y_train = np.array([1]*len(im_faces)+[0]*len(im_backgrounds))\n",
        "print(f'y_train shape: {y_train.shape}')"
      ]
    },
    {
      "cell_type": "markdown",
      "metadata": {},
      "source": [
        "## Logica anterior (TODO: borrar si no se usa)"
      ]
    },
    {
      "cell_type": "code",
      "execution_count": 7,
      "metadata": {
        "colab": {
          "base_uri": "https://localhost:8080/"
        },
        "id": "PLmacBHxeosE",
        "outputId": "a6f33549-87f5-447d-84a7-cae34403baf4"
      },
      "outputs": [
        {
          "name": "stdout",
          "output_type": "stream",
          "text": [
            "# Train Faces Sample Size: 485\n",
            "# Train Back Sample Size: 909\n",
            "# m: 884\n"
          ]
        }
      ],
      "source": [
        "# # Tomaremos una fracción de los datos. Puede ajustar estos parámetros a gusto\n",
        "# f = 0.2\n",
        "# n_face = int(f*len(train_faces))\n",
        "# n_back = int(f*len(train_background))\n",
        "\n",
        "# # Para mantener la proporción de background en test calculamos (para mantener una proporción balanceada entre las clases (rostros y no-rostros)):\n",
        "# m = int(np.round(len(test_faces)*len(train_background)/len(train_faces)))\n",
        "\n",
        "# print(f'# Train Faces Sample Size: {n_face}')\n",
        "# print(f'# Train Back Sample Size: {n_back}')\n",
        "# print(f'# m: {m}')"
      ]
    },
    {
      "cell_type": "code",
      "execution_count": 8,
      "metadata": {
        "colab": {
          "base_uri": "https://localhost:8080/"
        },
        "id": "ddhdopNyfbUY",
        "outputId": "1be202b3-2569-4331-8b9f-bb5b505180fa"
      },
      "outputs": [
        {
          "name": "stderr",
          "output_type": "stream",
          "text": [
            "100%|██████████| 485/485 [00:01<00:00, 366.06it/s]\n"
          ]
        }
      ],
      "source": [
        "# sample_train_faces = random.sample(train_faces,n_face)\n",
        "\n",
        "# Im_train = []\n",
        "# for filename in tqdm(sample_train_faces):\n",
        "#     # path = '/content/train/face/' + filename # colab\n",
        "#     path = 'train/face/' + filename # vscode\n",
        "#     with open(path, 'rb') as pgmf:\n",
        "#         image = plt.imread(pgmf)\n",
        "#     Im_train.append(image)\n",
        "\n",
        "# n_train_faces = len(Im_train)\n",
        "# y_train = [1]*n_train_faces # Cada imagen de rostro se etiqueta con un 1"
      ]
    },
    {
      "cell_type": "code",
      "execution_count": 9,
      "metadata": {
        "colab": {
          "base_uri": "https://localhost:8080/"
        },
        "id": "yxnalfyXhlp-",
        "outputId": "36bc95e8-17ba-490e-cff0-701b79193156"
      },
      "outputs": [
        {
          "name": "stderr",
          "output_type": "stream",
          "text": [
            "100%|██████████| 909/909 [00:02<00:00, 364.07it/s]\n"
          ]
        }
      ],
      "source": [
        "# sample_train_background = random.sample(train_background,n_back)\n",
        "\n",
        "# for filename in tqdm(sample_train_background):\n",
        "#     # path = \"/content/train/non-face/\" + filename # colab\n",
        "#     path = \"train/non-face/\" + filename # vscode\n",
        "#     with open(path, 'rb') as pgmf:\n",
        "#         image = plt.imread(pgmf)\n",
        "#     Im_train.append(image)\n",
        "\n",
        "# n_train_background = len(Im_train)-n_train_faces\n",
        "# y_train = y_train + [0]*n_train_background # Cada imagen de no-rostro se etiqueta con un 0"
      ]
    },
    {
      "cell_type": "code",
      "execution_count": 10,
      "metadata": {
        "colab": {
          "base_uri": "https://localhost:8080/"
        },
        "id": "kPdH24YiiORO",
        "outputId": "c10e9b23-f490-4c0d-87d7-b9a80f7e0c16"
      },
      "outputs": [
        {
          "name": "stdout",
          "output_type": "stream",
          "text": [
            "# Train: 1394, 1394\n"
          ]
        }
      ],
      "source": [
        "# print(f'# Train: {len(Im_train)}, {len(y_train)}')"
      ]
    },
    {
      "cell_type": "code",
      "execution_count": 11,
      "metadata": {
        "colab": {
          "base_uri": "https://localhost:8080/"
        },
        "id": "2MhJTtUUg91B",
        "outputId": "62e586ef-8323-4410-8d20-402a4fa42372"
      },
      "outputs": [
        {
          "name": "stderr",
          "output_type": "stream",
          "text": [
            "100%|██████████| 472/472 [00:01<00:00, 354.99it/s]\n"
          ]
        }
      ],
      "source": [
        "# Im_test = []\n",
        "# for filename in tqdm(test_faces):\n",
        "#     # path = \"/content/test/face/\" + filename # colab\n",
        "#     path = \"test/face/\" + filename # vscode\n",
        "#     with open(path, 'rb') as pgmf:\n",
        "#         image = plt.imread(pgmf)\n",
        "#     Im_test.append(image)\n",
        "\n",
        "# n_test_faces = len(Im_test)\n",
        "# y_test = [1]*n_test_faces"
      ]
    },
    {
      "cell_type": "code",
      "execution_count": 12,
      "metadata": {
        "colab": {
          "base_uri": "https://localhost:8080/"
        },
        "id": "PC0Jm2vwhI02",
        "outputId": "8e88f286-193a-4fd7-9e89-6357058dbd15"
      },
      "outputs": [
        {
          "name": "stderr",
          "output_type": "stream",
          "text": [
            "100%|██████████| 884/884 [00:02<00:00, 374.47it/s]\n"
          ]
        }
      ],
      "source": [
        "# sample_test_background = random.sample(test_background,m)\n",
        "\n",
        "# for filename in tqdm(sample_test_background):\n",
        "#     # path = \"/content/test/non-face/\" + filename # colab\n",
        "#     path = \"test/non-face/\" + filename # vscode\n",
        "#     with open(path, 'rb') as pgmf:\n",
        "#         image = plt.imread(pgmf)\n",
        "#     Im_test.append(image)\n",
        "\n",
        "# n_test_background = len(Im_test)-n_test_faces\n",
        "# y_test = y_test + [0]*n_test_background"
      ]
    },
    {
      "cell_type": "code",
      "execution_count": 13,
      "metadata": {
        "colab": {
          "base_uri": "https://localhost:8080/"
        },
        "id": "pIjTmQO1hcZs",
        "outputId": "ab11f828-92d1-4d4a-97db-3e8ebea44cae"
      },
      "outputs": [
        {
          "name": "stdout",
          "output_type": "stream",
          "text": [
            "# Test: 1356, 1356\n"
          ]
        }
      ],
      "source": [
        "# print(f'# Test: {len(Im_test)}, {len(y_test)}')"
      ]
    },
    {
      "cell_type": "markdown",
      "metadata": {
        "id": "RbVKuib2i0RY"
      },
      "source": [
        "## Histogram equalization"
      ]
    },
    {
      "cell_type": "code",
      "execution_count": null,
      "metadata": {},
      "outputs": [],
      "source": [
        "Im_train, Im_test, y_train, y_test = train_test_split(Im, \n",
        "                                                      y, \n",
        "                                                      test_size=0.5, \n",
        "                                                      shuffle=True, \n",
        "                                                      stratify=y, \n",
        "                                                      random_state = 42)\n"
      ]
    },
    {
      "cell_type": "code",
      "execution_count": null,
      "metadata": {},
      "outputs": [],
      "source": [
        "print(f'Im_train shape: {Im_train.shape}')\n",
        "print(f'Im_test shape: {Im_test.shape}')\n",
        "print(f'y_train shape: {y_test.shape}')\n",
        "print(f'y_test shape: {y_test.shape}')"
      ]
    },
    {
      "cell_type": "code",
      "execution_count": 14,
      "metadata": {
        "id": "QryhJZUjikXn"
      },
      "outputs": [],
      "source": [
        "# Normalización de las imágenes de entrenamiento y prueba\n",
        "Im_train_norm = [equalize_hist(image) for image in Im_train]\n",
        "Im_test_norm = [equalize_hist(image) for image in Im_test]"
      ]
    },
    {
      "cell_type": "markdown",
      "metadata": {
        "id": "ZkhnPcPQjZpa"
      },
      "source": [
        "## Matriz de features"
      ]
    },
    {
      "cell_type": "markdown",
      "metadata": {
        "id": "46ddsHxBkuek"
      },
      "source": [
        "### Calculamos y seleccionamos las mejores features en entrenamiento"
      ]
    },
    {
      "cell_type": "code",
      "execution_count": 15,
      "metadata": {
        "colab": {
          "base_uri": "https://localhost:8080/"
        },
        "id": "Jiw5r5VmjT2d",
        "outputId": "e5056d9e-66d2-4087-b364-44dffc9b8f12"
      },
      "outputs": [
        {
          "name": "stderr",
          "output_type": "stream",
          "text": [
            "100%|██████████| 1394/1394 [01:25<00:00, 16.25it/s]\n"
          ]
        }
      ],
      "source": [
        "X_train = [extract_feature_image(img) for img in tqdm(Im_train_norm)]\n",
        "X_train = np.array(X_train)"
      ]
    },
    {
      "cell_type": "code",
      "execution_count": 16,
      "metadata": {
        "id": "BrVbHHf4k-aV"
      },
      "outputs": [],
      "source": [
        "# Pueden guardar la matriz si lo desean\n",
        "np.save('X_train', X_train)"
      ]
    },
    {
      "cell_type": "code",
      "execution_count": 17,
      "metadata": {
        "id": "QReKG42Wms_Z"
      },
      "outputs": [],
      "source": [
        "# Y cargarla posteriormente\n",
        "X_train = np.load('X_train.npy')"
      ]
    },
    {
      "cell_type": "code",
      "execution_count": 18,
      "metadata": {
        "colab": {
          "base_uri": "https://localhost:8080/"
        },
        "id": "efa7MY-SnSiU",
        "outputId": "8d14f3c2-e8fd-4f43-a183-9d8d7cf14e3a"
      },
      "outputs": [
        {
          "data": {
            "text/plain": [
              "(1394, 63960)"
            ]
          },
          "execution_count": 18,
          "metadata": {},
          "output_type": "execute_result"
        }
      ],
      "source": [
        "X_train.shape"
      ]
    },
    {
      "cell_type": "code",
      "execution_count": 19,
      "metadata": {
        "colab": {
          "base_uri": "https://localhost:8080/"
        },
        "id": "kGad6yrdnUfY",
        "outputId": "345d8893-0ebc-4f41-da93-f16d60e6c681"
      },
      "outputs": [
        {
          "name": "stdout",
          "output_type": "stream",
          "text": [
            "Seleccionando las features de mayor dependencia lineal con y\n",
            "Seleccionadas 640 features potenciales\n",
            "Tiempo: 0.7966973781585693 segundos\n"
          ]
        }
      ],
      "source": [
        "# Selección de características en train\n",
        "print(\"Seleccionando las features de mayor dependencia lineal con y\")\n",
        "t_start = time()\n",
        "# SelectPercentile: selecciona las mejores características basadas en una prueba estadística.\n",
        "# f_classif: mide la dependencia lineal entre dos conjuntos de datos.\n",
        "# percentile=1: Selecciona el 1% de las mejores características.\n",
        "# fit(X_train, y_train): Ajusta el selector de características a los datos de entrenamiento X_train y y_train.\n",
        "# get_support(indices=True): Obtiene los índices de las características seleccionadas.\n",
        "f_indices = SelectPercentile(f_classif, percentile=1).fit(X_train, y_train).get_support(indices=True)\n",
        "t = time() - t_start\n",
        "X_train = X_train[:,f_indices]\n",
        "print(\"Seleccionadas %d features potenciales\" % X_train.shape[1])\n",
        "print(f'Tiempo: {t} segundos')"
      ]
    },
    {
      "cell_type": "code",
      "execution_count": null,
      "metadata": {},
      "outputs": [],
      "source": [
        "from sklearn.feature_selection import SelectFromModel\n",
        "from sklearn.ensemble import AdaBoostClassifier\n",
        "\n",
        "def select_features_with_adaboost(X, y):\n",
        "    \"\"\"\n",
        "    Selecciona las características más relevantes utilizando AdaBoostClassifier.\n",
        "\n",
        "    Parámetros:\n",
        "    X: numpy array\n",
        "        Conjunto de datos de entrenamiento.\n",
        "    y: numpy array\n",
        "        Etiquetas del conjunto de datos de entrenamiento.\n",
        "\n",
        "    Retorna:\n",
        "    X_selected: numpy array\n",
        "        Conjunto de datos de entrenamiento con las características seleccionadas.\n",
        "    model: AdaBoostClassifier\n",
        "        El modelo ajustado de AdaBoostClassifier.\n",
        "    tiempo: float\n",
        "        Tiempo de ejecución del proceso de selección.\n",
        "    \"\"\"\n",
        "    print(\"Seleccionando las características más importantes con AdaBoostClassifier\")\n",
        "    t_start = time()\n",
        "    \n",
        "    # Inicializar el clasificador AdaBoost\n",
        "    model = AdaBoostClassifier(n_estimators=50, random_state=42)\n",
        "    model.fit(X, y)\n",
        "    \n",
        "    # Seleccionar características basadas en su importancia\n",
        "    selector = SelectFromModel(model, prefit=True)\n",
        "    X_selected = selector.transform(X)\n",
        "    \n",
        "    tiempo = time() - t_start\n",
        "    \n",
        "    print(\"Seleccionadas %d características potenciales\" % X_selected.shape[1])\n",
        "    print(f'Tiempo: {tiempo:.2f} segundos')\n",
        "    \n",
        "    return X_selected, model, tiempo\n",
        "\n",
        "# Selección de características en el conjunto de entrenamiento con AdaBoost\n",
        "X_train, model, t = select_features_with_adaboost(X_train, y_train)\n",
        "\n",
        "# Aplicar la selección de características al conjunto de prueba\n",
        "X_test = X_test[:, model.feature_importances_ > 0]"
      ]
    },
    {
      "cell_type": "markdown",
      "metadata": {
        "id": "ohhMH7r9ppAY"
      },
      "source": [
        "### Calculamos dichas features para test"
      ]
    },
    {
      "cell_type": "code",
      "execution_count": 20,
      "metadata": {
        "id": "unvKKgd6pXg5"
      },
      "outputs": [],
      "source": [
        "# haar_like_feature_coord(): genera coordenadas y tipos de características Haar para una ventana de búsqueda especificada. En este caso 19x19 píxeles.\n",
        "feature_coord, feature_type = haar_like_feature_coord(width=19,\n",
        "                                                      height=19,\n",
        "                                                      )"
      ]
    },
    {
      "cell_type": "code",
      "execution_count": 21,
      "metadata": {
        "colab": {
          "base_uri": "https://localhost:8080/"
        },
        "id": "V9W35ACvp-45",
        "outputId": "570f2afd-70e7-4859-b251-2c1f514db254"
      },
      "outputs": [
        {
          "name": "stderr",
          "output_type": "stream",
          "text": [
            "100%|██████████| 1356/1356 [00:00<00:00, 3637.41it/s]\n"
          ]
        }
      ],
      "source": [
        "t_start = time()\n",
        "X_test = [extract_feature_image(img,\n",
        "                                feature_type=feature_type[f_indices],\n",
        "                                feature_coord=feature_coord[f_indices]) for img in tqdm(Im_test_norm)]\n",
        "t = time() - t_start\n",
        "X_test = np.array(X_test)"
      ]
    },
    {
      "cell_type": "code",
      "execution_count": 22,
      "metadata": {
        "colab": {
          "base_uri": "https://localhost:8080/"
        },
        "id": "P1SzHpikqYpT",
        "outputId": "4f5e9134-918e-4074-f227-70bba06fa2a3"
      },
      "outputs": [
        {
          "name": "stdout",
          "output_type": "stream",
          "text": [
            "Tiempo: 0.37479424476623535 segundos\n",
            "Shape X_test: (1356, 640)\n"
          ]
        }
      ],
      "source": [
        "print(f'Tiempo: {t} segundos')\n",
        "print(f'Shape X_test: {X_test.shape}')"
      ]
    },
    {
      "cell_type": "markdown",
      "metadata": {
        "id": "-1waGPrbuBLe"
      },
      "source": [
        "# Clasificadores - Evaluación con Holdout"
      ]
    },
    {
      "cell_type": "markdown",
      "metadata": {
        "id": "zQRiBO6GuFGw"
      },
      "source": [
        "### Random Forest"
      ]
    },
    {
      "cell_type": "code",
      "execution_count": 23,
      "metadata": {
        "colab": {
          "base_uri": "https://localhost:8080/"
        },
        "id": "2h0UhPoUqk27",
        "outputId": "2ad7cc79-49ce-4b83-fc5a-e62d715ed710"
      },
      "outputs": [
        {
          "name": "stdout",
          "output_type": "stream",
          "text": [
            "Accuracy: 0.7234513274336283\n",
            "F1 Score: 0.40381558028616854\n",
            "Precision: 0.8089171974522293\n",
            "\n",
            "Reporte de clasificación:\n",
            "              precision    recall  f1-score   support\n",
            "\n",
            "           0       0.71      0.97      0.82       884\n",
            "           1       0.81      0.27      0.40       472\n",
            "\n",
            "    accuracy                           0.72      1356\n",
            "   macro avg       0.76      0.62      0.61      1356\n",
            "weighted avg       0.75      0.72      0.68      1356\n",
            "\n",
            "\n",
            "Matriz de confusión:\n",
            "[[854  30]\n",
            " [345 127]]\n"
          ]
        }
      ],
      "source": [
        "from sklearn.ensemble import RandomForestClassifier\n",
        "\n",
        "# Crear el clasificador Random Forest\n",
        "rf_classifier = RandomForestClassifier(n_estimators=600, random_state=42)\n",
        "\n",
        "# Entrenar el clasificador con el conjunto de entrenamiento y las características extraídas\n",
        "rf_classifier.fit(X_train, y_train)\n",
        "\n",
        "# Evaluación del Modelo\n",
        "from sklearn.metrics import accuracy_score, f1_score, precision_score, classification_report, confusion_matrix\n",
        "\n",
        "# Predecir las etiquetas de las imágenes de prueba\n",
        "y_pred = rf_classifier.predict(X_test)\n",
        "\n",
        "accuracy_rf = accuracy_score(y_test, y_pred)\n",
        "f1_score_rf = f1_score(y_test, y_pred)\n",
        "precision_rf = precision_score(y_test, y_pred)\n",
        "\n",
        "print(\"Accuracy:\", accuracy_rf)\n",
        "print(\"F1 Score:\", f1_score_rf)\n",
        "print(\"Precision:\", precision_rf)\n",
        "\n",
        "print(\"\\nReporte de clasificación:\")\n",
        "print(classification_report(y_test, y_pred))\n",
        "\n",
        "print(\"\\nMatriz de confusión:\")\n",
        "print(confusion_matrix(y_test, y_pred))\n"
      ]
    },
    {
      "cell_type": "markdown",
      "metadata": {
        "id": "dS4As_4kuJJG"
      },
      "source": [
        "### Gradient Boosting"
      ]
    },
    {
      "cell_type": "code",
      "execution_count": 24,
      "metadata": {
        "colab": {
          "base_uri": "https://localhost:8080/"
        },
        "id": "d_E5agw7qr61",
        "outputId": "13cade28-33a2-425b-bb09-7f9f9b7701ed"
      },
      "outputs": [
        {
          "name": "stdout",
          "output_type": "stream",
          "text": [
            "Accuracy: 0.724188790560472\n",
            "F1 Score: 0.415625\n",
            "Precision: 0.7916666666666666\n",
            "\n",
            "Reporte de clasificación:\n",
            "              precision    recall  f1-score   support\n",
            "\n",
            "           0       0.71      0.96      0.82       884\n",
            "           1       0.79      0.28      0.42       472\n",
            "\n",
            "    accuracy                           0.72      1356\n",
            "   macro avg       0.75      0.62      0.62      1356\n",
            "weighted avg       0.74      0.72      0.68      1356\n",
            "\n",
            "\n",
            "Matriz de confusión:\n",
            "[[849  35]\n",
            " [339 133]]\n"
          ]
        }
      ],
      "source": [
        "from sklearn.ensemble import GradientBoostingClassifier\n",
        "\n",
        "gb_classifier = GradientBoostingClassifier(n_estimators=100, learning_rate=0.1, random_state=42)\n",
        "\n",
        "gb_classifier.fit(X_train, y_train)\n",
        "\n",
        "# Evaluación del modelo\n",
        "y_pred_gb = gb_classifier.predict(X_test)\n",
        "\n",
        "accuracy_gb = accuracy_score(y_test, y_pred_gb)\n",
        "f1_score_gb = f1_score(y_test, y_pred_gb)\n",
        "precision_gb = precision_score(y_test, y_pred_gb)\n",
        "\n",
        "print(\"Accuracy:\", accuracy_gb)\n",
        "print(\"F1 Score:\", f1_score_gb)\n",
        "print(\"Precision:\", precision_gb)\n",
        "\n",
        "print(\"\\nReporte de clasificación:\")\n",
        "print(classification_report(y_test, y_pred_gb))\n",
        "\n",
        "print(\"\\nMatriz de confusión:\")\n",
        "print(confusion_matrix(y_test, y_pred_gb))\n"
      ]
    },
    {
      "cell_type": "markdown",
      "metadata": {
        "id": "8zGRcZFiuYRA"
      },
      "source": [
        "### Árboles de decisión"
      ]
    },
    {
      "cell_type": "code",
      "execution_count": 25,
      "metadata": {
        "colab": {
          "base_uri": "https://localhost:8080/"
        },
        "id": "rxk7tX3Kubkd",
        "outputId": "40662446-a61e-4a32-ff40-d731c0c8b1af"
      },
      "outputs": [
        {
          "name": "stdout",
          "output_type": "stream",
          "text": [
            "Accuracy: 0.7359882005899705\n",
            "F1 Score: 0.5149051490514905\n",
            "Precision: 0.7142857142857143\n",
            "\n",
            "Reporte de clasificación:\n",
            "              precision    recall  f1-score   support\n",
            "\n",
            "           0       0.74      0.91      0.82       884\n",
            "           1       0.71      0.40      0.51       472\n",
            "\n",
            "    accuracy                           0.74      1356\n",
            "   macro avg       0.73      0.66      0.67      1356\n",
            "weighted avg       0.73      0.74      0.71      1356\n",
            "\n",
            "\n",
            "Matriz de confusión:\n",
            "[[808  76]\n",
            " [282 190]]\n"
          ]
        }
      ],
      "source": [
        "from sklearn.tree import DecisionTreeClassifier\n",
        "\n",
        "dt_classifier = DecisionTreeClassifier(random_state=42)\n",
        "\n",
        "dt_classifier.fit(X_train, y_train)\n",
        "\n",
        "# Evaluación del modelo\n",
        "y_pred_dt = dt_classifier.predict(X_test)\n",
        "\n",
        "accuracy_dt = accuracy_score(y_test, y_pred_dt)\n",
        "f1_score_dt = f1_score(y_test, y_pred_dt)\n",
        "precision_dt = precision_score(y_test, y_pred_dt)\n",
        "\n",
        "print(\"Accuracy:\", accuracy_dt)\n",
        "print(\"F1 Score:\", f1_score_dt)\n",
        "print(\"Precision:\", precision_dt)\n",
        "\n",
        "print(\"\\nReporte de clasificación:\")\n",
        "print(classification_report(y_test, y_pred_dt))\n",
        "\n",
        "print(\"\\nMatriz de confusión:\")\n",
        "print(confusion_matrix(y_test, y_pred_dt))\n"
      ]
    },
    {
      "cell_type": "markdown",
      "metadata": {
        "id": "TcKOc_V6unj5"
      },
      "source": [
        "### Regresión logística"
      ]
    },
    {
      "cell_type": "code",
      "execution_count": 26,
      "metadata": {
        "colab": {
          "base_uri": "https://localhost:8080/"
        },
        "id": "rcKpPcC3up5k",
        "outputId": "4234c9af-fae9-4a27-80ba-c610a887aa88"
      },
      "outputs": [
        {
          "name": "stdout",
          "output_type": "stream",
          "text": [
            "Accuracy: 0.724188790560472\n",
            "F1 Score: 0.42813455657492355\n",
            "Precision: 0.7692307692307693\n",
            "\n",
            "Reporte de clasificación:\n",
            "              precision    recall  f1-score   support\n",
            "\n",
            "           0       0.72      0.95      0.82       884\n",
            "           1       0.77      0.30      0.43       472\n",
            "\n",
            "    accuracy                           0.72      1356\n",
            "   macro avg       0.74      0.62      0.62      1356\n",
            "weighted avg       0.74      0.72      0.68      1356\n",
            "\n",
            "\n",
            "Matriz de confusión:\n",
            "[[842  42]\n",
            " [332 140]]\n"
          ]
        },
        {
          "name": "stderr",
          "output_type": "stream",
          "text": [
            "c:\\Users\\Santiago\\.pyenv\\pyenv-win\\versions\\3.12.1\\Lib\\site-packages\\sklearn\\linear_model\\_logistic.py:469: ConvergenceWarning: lbfgs failed to converge (status=1):\n",
            "STOP: TOTAL NO. of ITERATIONS REACHED LIMIT.\n",
            "\n",
            "Increase the number of iterations (max_iter) or scale the data as shown in:\n",
            "    https://scikit-learn.org/stable/modules/preprocessing.html\n",
            "Please also refer to the documentation for alternative solver options:\n",
            "    https://scikit-learn.org/stable/modules/linear_model.html#logistic-regression\n",
            "  n_iter_i = _check_optimize_result(\n"
          ]
        }
      ],
      "source": [
        "# Probar con SGClassifier\n",
        "from sklearn.linear_model import LogisticRegression\n",
        "\n",
        "lr_classifier = LogisticRegression(max_iter=1000, random_state=42)\n",
        "\n",
        "lr_classifier.fit(X_train, y_train)\n",
        "\n",
        "# Evaluación del modelo\n",
        "y_pred_lr = lr_classifier.predict(X_test)\n",
        "\n",
        "accuracy_lr = accuracy_score(y_test, y_pred_lr)\n",
        "f1_score_lr = f1_score(y_test, y_pred_lr)\n",
        "precision_lr = precision_score(y_test, y_pred_lr)\n",
        "\n",
        "print(\"Accuracy:\", accuracy_lr)\n",
        "print(\"F1 Score:\", f1_score_lr)\n",
        "print(\"Precision:\", precision_lr)\n",
        "\n",
        "print(\"\\nReporte de clasificación:\")\n",
        "print(classification_report(y_test, y_pred_lr))\n",
        "\n",
        "print(\"\\nMatriz de confusión:\")\n",
        "print(confusion_matrix(y_test, y_pred_lr))\n"
      ]
    },
    {
      "cell_type": "markdown",
      "metadata": {
        "id": "D0EXQhtku2Av"
      },
      "source": [
        "### Redes neuronales"
      ]
    },
    {
      "cell_type": "code",
      "execution_count": 27,
      "metadata": {
        "colab": {
          "base_uri": "https://localhost:8080/"
        },
        "id": "ITsJWqKxu3aa",
        "outputId": "d4310472-32c4-4282-b144-028a04d31f41"
      },
      "outputs": [
        {
          "name": "stdout",
          "output_type": "stream",
          "text": [
            "Accuracy: 0.721976401179941\n",
            "F1 Score: 0.3642495784148398\n",
            "Precision: 0.8925619834710744\n",
            "\n",
            "Reporte de clasificación:\n",
            "              precision    recall  f1-score   support\n",
            "\n",
            "           0       0.71      0.99      0.82       884\n",
            "           1       0.89      0.23      0.36       472\n",
            "\n",
            "    accuracy                           0.72      1356\n",
            "   macro avg       0.80      0.61      0.59      1356\n",
            "weighted avg       0.77      0.72      0.66      1356\n",
            "\n",
            "\n",
            "Matriz de confusión:\n",
            "[[871  13]\n",
            " [364 108]]\n"
          ]
        }
      ],
      "source": [
        "from sklearn.neural_network import MLPClassifier\n",
        "\n",
        "mlp_classifier = MLPClassifier(hidden_layer_sizes=(100,), max_iter=1000, random_state=42)\n",
        "\n",
        "mlp_classifier.fit(X_train, y_train)\n",
        "\n",
        "# Evaluación del modelo\n",
        "y_pred_mlp = mlp_classifier.predict(X_test)\n",
        "\n",
        "accuracy_mlp = accuracy_score(y_test, y_pred_mlp)\n",
        "f1_score_mlp = f1_score(y_test, y_pred_mlp)\n",
        "precision_mlp = precision_score(y_test, y_pred_mlp)\n",
        "\n",
        "print(\"Accuracy:\", accuracy_mlp)\n",
        "print(\"F1 Score:\", f1_score_mlp)\n",
        "print(\"Precision:\", precision_mlp)\n",
        "\n",
        "print(\"\\nReporte de clasificación:\")\n",
        "print(classification_report(y_test, y_pred_mlp))\n",
        "\n",
        "print(\"\\nMatriz de confusión:\")\n",
        "print(confusion_matrix(y_test, y_pred_mlp))\n"
      ]
    },
    {
      "cell_type": "markdown",
      "metadata": {
        "id": "kKsyo0aKwRJK"
      },
      "source": [
        "# Clasificadores - Evaluación con Repeated Holdout"
      ]
    },
    {
      "cell_type": "code",
      "execution_count": 28,
      "metadata": {
        "colab": {
          "base_uri": "https://localhost:8080/"
        },
        "id": "_utql-SYwV7j",
        "outputId": "fdffd157-43b5-4854-d20a-f49acb95dd24"
      },
      "outputs": [
        {
          "name": "stderr",
          "output_type": "stream",
          "text": [
            "c:\\Users\\Santiago\\.pyenv\\pyenv-win\\versions\\3.12.1\\Lib\\site-packages\\sklearn\\linear_model\\_logistic.py:469: ConvergenceWarning: lbfgs failed to converge (status=1):\n",
            "STOP: TOTAL NO. of ITERATIONS REACHED LIMIT.\n",
            "\n",
            "Increase the number of iterations (max_iter) or scale the data as shown in:\n",
            "    https://scikit-learn.org/stable/modules/preprocessing.html\n",
            "Please also refer to the documentation for alternative solver options:\n",
            "    https://scikit-learn.org/stable/modules/linear_model.html#logistic-regression\n",
            "  n_iter_i = _check_optimize_result(\n",
            "c:\\Users\\Santiago\\.pyenv\\pyenv-win\\versions\\3.12.1\\Lib\\site-packages\\sklearn\\linear_model\\_logistic.py:469: ConvergenceWarning: lbfgs failed to converge (status=1):\n",
            "STOP: TOTAL NO. of ITERATIONS REACHED LIMIT.\n",
            "\n",
            "Increase the number of iterations (max_iter) or scale the data as shown in:\n",
            "    https://scikit-learn.org/stable/modules/preprocessing.html\n",
            "Please also refer to the documentation for alternative solver options:\n",
            "    https://scikit-learn.org/stable/modules/linear_model.html#logistic-regression\n",
            "  n_iter_i = _check_optimize_result(\n",
            "c:\\Users\\Santiago\\.pyenv\\pyenv-win\\versions\\3.12.1\\Lib\\site-packages\\sklearn\\linear_model\\_logistic.py:469: ConvergenceWarning: lbfgs failed to converge (status=1):\n",
            "STOP: TOTAL NO. of ITERATIONS REACHED LIMIT.\n",
            "\n",
            "Increase the number of iterations (max_iter) or scale the data as shown in:\n",
            "    https://scikit-learn.org/stable/modules/preprocessing.html\n",
            "Please also refer to the documentation for alternative solver options:\n",
            "    https://scikit-learn.org/stable/modules/linear_model.html#logistic-regression\n",
            "  n_iter_i = _check_optimize_result(\n",
            "c:\\Users\\Santiago\\.pyenv\\pyenv-win\\versions\\3.12.1\\Lib\\site-packages\\sklearn\\linear_model\\_logistic.py:469: ConvergenceWarning: lbfgs failed to converge (status=1):\n",
            "STOP: TOTAL NO. of ITERATIONS REACHED LIMIT.\n",
            "\n",
            "Increase the number of iterations (max_iter) or scale the data as shown in:\n",
            "    https://scikit-learn.org/stable/modules/preprocessing.html\n",
            "Please also refer to the documentation for alternative solver options:\n",
            "    https://scikit-learn.org/stable/modules/linear_model.html#logistic-regression\n",
            "  n_iter_i = _check_optimize_result(\n",
            "c:\\Users\\Santiago\\.pyenv\\pyenv-win\\versions\\3.12.1\\Lib\\site-packages\\sklearn\\linear_model\\_logistic.py:469: ConvergenceWarning: lbfgs failed to converge (status=1):\n",
            "STOP: TOTAL NO. of ITERATIONS REACHED LIMIT.\n",
            "\n",
            "Increase the number of iterations (max_iter) or scale the data as shown in:\n",
            "    https://scikit-learn.org/stable/modules/preprocessing.html\n",
            "Please also refer to the documentation for alternative solver options:\n",
            "    https://scikit-learn.org/stable/modules/linear_model.html#logistic-regression\n",
            "  n_iter_i = _check_optimize_result(\n"
          ]
        },
        {
          "name": "stdout",
          "output_type": "stream",
          "text": [
            "Repeated Holdout Accuracy Scores (RF): 0.9713261648745519\n",
            "Repeated Holdout Accuracy Scores (GB): 0.96415770609319\n",
            "Repeated Holdout Accuracy Scores (DT): 0.931899641577061\n",
            "Repeated Holdout Accuracy Scores (LR): 0.9713261648745519\n",
            "Repeated Holdout Accuracy Scores (MLP): 0.921146953405018\n"
          ]
        }
      ],
      "source": [
        "# Número de repeticiones\n",
        "n_repeats = 5\n",
        "accuracies_rf = []\n",
        "accuracies_gb = []\n",
        "accuracies_dt = []\n",
        "accuracies_lr = []\n",
        "accuracies_mlp = []\n",
        "\n",
        "for _ in range(n_repeats):\n",
        "    # Dividir los datos en conjuntos de entrenamiento y prueba\n",
        "    X_train_split, X_val_split, y_train_split, y_val_split = train_test_split(X_train, y_train, test_size=0.5, random_state=42)\n",
        "\n",
        "    # Entrenar y evaluar Random Forest\n",
        "    rf_classifier.fit(X_train_split, y_train_split)\n",
        "    y_pred_rf = rf_classifier.predict(X_val_split)\n",
        "    accuracies_rf.append(f1_score(y_val_split, y_pred_rf, average=None))\n",
        "\n",
        "    # Entrenar y evaluar Gradient Boosting\n",
        "    gb_classifier.fit(X_train_split, y_train_split)\n",
        "    y_pred_gb = gb_classifier.predict(X_val_split)\n",
        "    accuracies_gb.append(f1_score(y_val_split, y_pred_gb, average=None))\n",
        "\n",
        "    # Entrenar y evaluar Árboles de decisión\n",
        "    dt_classifier.fit(X_train_split, y_train_split)\n",
        "    y_pred_dt = dt_classifier.predict(X_val_split)\n",
        "    accuracies_dt.append(f1_score(y_val_split, y_pred_dt, average=None))\n",
        "\n",
        "    # Entrenar y evaluar Regresión logística\n",
        "    lr_classifier.fit(X_train_split, y_train_split)\n",
        "    y_pred_lr = lr_classifier.predict(X_val_split)\n",
        "    accuracies_lr.append(f1_score(y_val_split, y_pred_lr, average=None))\n",
        "\n",
        "    # Entrenar y evaluar Redes neuronales\n",
        "    mlp_classifier.fit(X_train_split, y_train_split)\n",
        "    y_pred_mlp = mlp_classifier.predict(X_val_split)\n",
        "    accuracies_mlp.append(f1_score(y_val_split, y_pred_mlp, average=None))\n",
        "\n",
        "print_f1_results(accuracies_rf, \"Repeated Holdout F1 Scores (RF)\")\n",
        "print_f1_results(accuracies_gb, \"Repeated Holdout F1 Scores (GB)\")\n",
        "print_f1_results(accuracies_dt, \"Repeated Holdout F1 Scores (DT)\")\n",
        "print_f1_results(accuracies_lr, \"Repeated Holdout F1 Scores (LR)\")\n",
        "print_f1_results(accuracies_mlp, \"Repeated Holdout F1 Scores (MLP)\")\n"
      ]
    },
    {
      "cell_type": "markdown",
      "metadata": {
        "id": "TXZm9dMr5Lyp"
      },
      "source": [
        "# Selección de modelos (búsqueda de hiperparámetros)"
      ]
    },
    {
      "cell_type": "markdown",
      "metadata": {
        "id": "pldX1kl66CYj"
      },
      "source": [
        "### Random Forest"
      ]
    },
    {
      "cell_type": "code",
      "execution_count": 29,
      "metadata": {
        "colab": {
          "base_uri": "https://localhost:8080/"
        },
        "id": "ORqvi46k4aiy",
        "outputId": "b7e347bd-b95f-4b6a-e357-8bf8db2a8129"
      },
      "outputs": [
        {
          "name": "stdout",
          "output_type": "stream",
          "text": [
            "Fitting 5 folds for each of 100 candidates, totalling 500 fits\n"
          ]
        }
      ],
      "source": [
        "from sklearn.model_selection import RandomizedSearchCV\n",
        "from scipy.stats import randint\n",
        "from sklearn.ensemble import RandomForestClassifier\n",
        "\n",
        "param_dist = {\n",
        "    'n_estimators': randint(100, 500),\n",
        "    'max_depth': [None, 10, 20, 30, 40, 50],\n",
        "    'min_samples_split': randint(2, 20),\n",
        "    'min_samples_leaf': randint(1, 10),\n",
        "    'max_features': ['sqrt', 'log2'],\n",
        "    'bootstrap': [True, False]\n",
        "}\n",
        "\n",
        "random_search_rf = RandomizedSearchCV(estimator=RandomForestClassifier(random_state=42),\n",
        "                                   param_distributions=param_dist,\n",
        "                                   n_iter=100,\n",
        "                                   cv=5,  # Este es el parámetro para cross-validation\n",
        "                                   scoring='f1',\n",
        "                                   verbose=1,\n",
        "                                   n_jobs=-1)\n",
        "\n",
        "random_search_rf.fit(X_train, y_train)\n",
        "cv_results_rf = random_search_rf.cv_results_\n",
        "best_rf_model = random_search_rf.best_estimator_\n",
        "\n",
        "# TODO: delete if made in next cell\n",
        "# print(\"Mejor modelo:\", best_rf_model)\n",
        "# print(\"cv_results:\", cv_results_rf)\n",
        "# print(\"Mejores hiperparámetros:\", random_search_rf.best_params_)\n"
      ]
    },
    {
      "cell_type": "code",
      "execution_count": 30,
      "metadata": {},
      "outputs": [
        {
          "name": "stdout",
          "output_type": "stream",
          "text": [
            "Mejor modelo: RandomForestClassifier(bootstrap=False, max_depth=20, min_samples_leaf=2,\n",
            "                       min_samples_split=3, n_estimators=206, random_state=42)\n",
            "cv_results: {'mean_fit_time': array([2.16182389, 1.85785007, 4.44260931, 2.59207191, 3.37391658,\n",
            "       2.55909591, 4.60522957, 2.26704545, 3.38470721, 3.11458688,\n",
            "       4.70457268, 1.25481753, 1.46127753, 2.13563662, 6.57258515,\n",
            "       5.35194545, 1.64882751, 3.9408658 , 2.7105514 , 2.26810169,\n",
            "       2.57775822, 1.44436784, 0.59273906, 2.94273896, 6.94945016,\n",
            "       3.2127264 , 4.16398811, 2.19939904, 2.92939839, 2.55268607,\n",
            "       1.45219307, 7.22535534, 4.87708406, 7.19496551, 2.50363679,\n",
            "       1.5448977 , 3.20092578, 0.62766371, 2.55726981, 4.88097577,\n",
            "       1.77118607, 3.37309175, 2.47965097, 3.37638407, 3.04719949,\n",
            "       1.46218028, 3.10493798, 2.91989765, 2.17878237, 2.20206771,\n",
            "       3.09310904, 1.58659773, 1.31297703, 1.93992071, 2.86247568,\n",
            "       3.0346076 , 7.71981754, 2.98883948, 3.24726195, 8.44846931,\n",
            "       3.04300942, 2.44555273, 3.57599463, 3.81735768, 5.73518748,\n",
            "       3.34899392, 0.49658031, 0.57595644, 3.62035613, 1.18502216,\n",
            "       6.00905485, 1.63196716, 1.53888631, 1.49929056, 4.33097944,\n",
            "       1.32465839, 1.23423371, 1.88670039, 7.73888111, 2.71768489,\n",
            "       3.67007251, 6.3568203 , 8.59452691, 1.59920683, 0.9532692 ,\n",
            "       0.81034441, 1.68174038, 1.57832336, 1.79977965, 4.02813377,\n",
            "       1.79008079, 1.20590043, 6.15118079, 1.14890709, 2.83862848,\n",
            "       7.02900934, 0.97822967, 3.22913804, 2.75858941, 2.36765499]), 'std_fit_time': array([0.10506495, 0.12038681, 0.21740345, 0.15928356, 0.24227759,\n",
            "       0.09257166, 0.15864483, 0.15603754, 0.20838971, 0.12282063,\n",
            "       0.17601184, 0.05322975, 0.08819206, 0.06139874, 0.43143409,\n",
            "       0.29024126, 0.10333457, 0.13785663, 0.13961985, 0.09245101,\n",
            "       0.08852841, 0.12209224, 0.01259331, 0.11019626, 0.34823081,\n",
            "       0.17784255, 0.27461366, 0.03276657, 0.14444384, 0.12291564,\n",
            "       0.06020356, 0.44296815, 0.45333947, 0.16523269, 0.05182711,\n",
            "       0.09106947, 0.03372957, 0.0855903 , 0.07079943, 0.32862956,\n",
            "       0.03146184, 0.11431071, 0.12403095, 0.03992983, 0.12094555,\n",
            "       0.06502055, 0.08600907, 0.17030356, 0.08450044, 0.11197148,\n",
            "       0.06241006, 0.04991638, 0.01919565, 0.09450541, 0.18668981,\n",
            "       0.0421564 , 0.25644402, 0.09486815, 0.14719725, 0.37696567,\n",
            "       0.11083981, 0.12222961, 0.16763084, 0.08483785, 0.17577285,\n",
            "       0.13106211, 0.03512289, 0.02946284, 0.13560533, 0.03391259,\n",
            "       0.34769107, 0.09043844, 0.06541149, 0.02200536, 0.18157804,\n",
            "       0.08794671, 0.01321075, 0.14555648, 0.33642126, 0.06738489,\n",
            "       0.12488392, 0.08161347, 0.45077592, 0.04965983, 0.03927341,\n",
            "       0.02018563, 0.08189205, 0.08266649, 0.04717186, 0.15024759,\n",
            "       0.10397854, 0.0627825 , 0.13646142, 0.09443922, 0.18311627,\n",
            "       0.07975513, 0.09099847, 0.16012335, 0.1585865 , 0.21408312]), 'mean_score_time': array([0.01515479, 0.01401019, 0.01390877, 0.01368241, 0.02078347,\n",
            "       0.01456323, 0.02001858, 0.01411257, 0.01170926, 0.01571536,\n",
            "       0.01641235, 0.0120121 , 0.00912366, 0.01781707, 0.01391387,\n",
            "       0.01741328, 0.00650468, 0.0153121 , 0.0105969 , 0.01281953,\n",
            "       0.01511288, 0.00981221, 0.00670381, 0.01101036, 0.01611614,\n",
            "       0.01090984, 0.00820994, 0.01782351, 0.01702261, 0.01411328,\n",
            "       0.01190867, 0.01481566, 0.01070604, 0.0151124 , 0.01850371,\n",
            "       0.00600533, 0.00810552, 0.00590334, 0.00960612, 0.0166091 ,\n",
            "       0.00771065, 0.00840702, 0.01418948, 0.0088089 , 0.01671581,\n",
            "       0.01344571, 0.01171064, 0.01331568, 0.01391315, 0.01762109,\n",
            "       0.0169157 , 0.01341076, 0.01221199, 0.02048497, 0.01661716,\n",
            "       0.01721859, 0.01471505, 0.01050911, 0.01241336, 0.01911879,\n",
            "       0.0152607 , 0.00831041, 0.01221189, 0.0084075 , 0.01871767,\n",
            "       0.00830832, 0.00520525, 0.00600734, 0.00890636, 0.00890856,\n",
            "       0.01341352, 0.00829592, 0.00631161, 0.01631432, 0.01000829,\n",
            "       0.00990744, 0.00500636, 0.00560675, 0.01738348, 0.01451416,\n",
            "       0.01301074, 0.01351342, 0.01561327, 0.00700822, 0.00961156,\n",
            "       0.00800776, 0.00758023, 0.01290541, 0.00520315, 0.01741838,\n",
            "       0.01802206, 0.00730796, 0.01010885, 0.01081238, 0.01581316,\n",
            "       0.01062193, 0.0085062 , 0.01491475, 0.00932341, 0.00710664]), 'std_score_time': array([0.00086131, 0.00091834, 0.001357  , 0.0019121 , 0.00395693,\n",
            "       0.00122565, 0.0048174 , 0.00139478, 0.0007466 , 0.00092946,\n",
            "       0.00128209, 0.00134149, 0.00141427, 0.00092943, 0.0030902 ,\n",
            "       0.0028201 , 0.00070848, 0.00136311, 0.00093693, 0.001436  ,\n",
            "       0.00097272, 0.003438  , 0.00132816, 0.00100265, 0.00222852,\n",
            "       0.00135847, 0.0004015 , 0.00093059, 0.00130437, 0.0008603 ,\n",
            "       0.00119964, 0.00051093, 0.0011233 , 0.00153184, 0.00131917,\n",
            "       0.00031388, 0.00120239, 0.00097241, 0.00049076, 0.00272451,\n",
            "       0.00040081, 0.00106761, 0.00058671, 0.00139944, 0.00124808,\n",
            "       0.00158443, 0.00074846, 0.00206732, 0.00287226, 0.00107257,\n",
            "       0.00066623, 0.00119691, 0.00039849, 0.00855447, 0.00165837,\n",
            "       0.00231526, 0.00068215, 0.00063339, 0.0014656 , 0.00310348,\n",
            "       0.00045181, 0.00050854, 0.00204466, 0.00058421, 0.00172231,\n",
            "       0.00074748, 0.00068073, 0.00044422, 0.00037464, 0.0023141 ,\n",
            "       0.0024187 , 0.00060861, 0.00143711, 0.00564384, 0.00094887,\n",
            "       0.0008004 , 0.00044512, 0.0009727 , 0.00214013, 0.00054887,\n",
            "       0.00155134, 0.00062925, 0.00132078, 0.00099937, 0.00128287,\n",
            "       0.00044868, 0.00098904, 0.00222715, 0.00068154, 0.00884635,\n",
            "       0.00305734, 0.00081501, 0.00196009, 0.00239669, 0.00093014,\n",
            "       0.0004739 , 0.00089372, 0.003737  , 0.00142252, 0.00146429]), 'param_bootstrap': masked_array(data=[True, True, True, False, False, False, True, False,\n",
            "                   True, False, True, True, False, True, False, True,\n",
            "                   True, True, True, False, False, False, True, True,\n",
            "                   False, True, False, True, False, False, True, False,\n",
            "                   False, False, True, True, False, True, True, True,\n",
            "                   True, False, False, False, False, True, True, True,\n",
            "                   False, True, False, True, True, True, False, False,\n",
            "                   False, True, True, False, False, True, True, False,\n",
            "                   True, False, True, True, False, False, False, False,\n",
            "                   True, True, False, True, True, False, False, False,\n",
            "                   True, False, False, True, True, True, True, True,\n",
            "                   False, True, True, False, False, True, False, False,\n",
            "                   True, False, True, True],\n",
            "             mask=[False, False, False, False, False, False, False, False,\n",
            "                   False, False, False, False, False, False, False, False,\n",
            "                   False, False, False, False, False, False, False, False,\n",
            "                   False, False, False, False, False, False, False, False,\n",
            "                   False, False, False, False, False, False, False, False,\n",
            "                   False, False, False, False, False, False, False, False,\n",
            "                   False, False, False, False, False, False, False, False,\n",
            "                   False, False, False, False, False, False, False, False,\n",
            "                   False, False, False, False, False, False, False, False,\n",
            "                   False, False, False, False, False, False, False, False,\n",
            "                   False, False, False, False, False, False, False, False,\n",
            "                   False, False, False, False, False, False, False, False,\n",
            "                   False, False, False, False],\n",
            "       fill_value=True), 'param_max_depth': masked_array(data=[nan, 50.0, 10.0, 10.0, 40.0, 50.0, 20.0, 20.0, 10.0,\n",
            "                   20.0, 30.0, 10.0, 30.0, 30.0, 30.0, nan, 10.0, 40.0,\n",
            "                   50.0, 40.0, 40.0, 30.0, 10.0, nan, 10.0, 30.0, 40.0,\n",
            "                   20.0, 20.0, 40.0, 10.0, 40.0, 50.0, nan, 50.0, nan,\n",
            "                   20.0, 30.0, 50.0, 30.0, 10.0, 10.0, 20.0, 40.0, 50.0,\n",
            "                   50.0, 40.0, 50.0, 30.0, 10.0, 50.0, nan, nan, 50.0,\n",
            "                   10.0, 30.0, 30.0, 50.0, 50.0, 10.0, 10.0, 40.0, 30.0,\n",
            "                   20.0, 50.0, 40.0, 40.0, nan, 40.0, 20.0, 40.0, nan,\n",
            "                   nan, nan, nan, 30.0, nan, nan, 20.0, 20.0, 10.0, nan,\n",
            "                   nan, 10.0, 30.0, nan, 50.0, 30.0, 10.0, 20.0, 30.0,\n",
            "                   40.0, 20.0, 30.0, nan, 10.0, 10.0, nan, 20.0, 10.0],\n",
            "             mask=[False, False, False, False, False, False, False, False,\n",
            "                   False, False, False, False, False, False, False, False,\n",
            "                   False, False, False, False, False, False, False, False,\n",
            "                   False, False, False, False, False, False, False, False,\n",
            "                   False, False, False, False, False, False, False, False,\n",
            "                   False, False, False, False, False, False, False, False,\n",
            "                   False, False, False, False, False, False, False, False,\n",
            "                   False, False, False, False, False, False, False, False,\n",
            "                   False, False, False, False, False, False, False, False,\n",
            "                   False, False, False, False, False, False, False, False,\n",
            "                   False, False, False, False, False, False, False, False,\n",
            "                   False, False, False, False, False, False, False, False,\n",
            "                   False, False, False, False],\n",
            "       fill_value=1e+20), 'param_max_features': masked_array(data=['log2', 'log2', 'sqrt', 'log2', 'log2', 'log2', 'sqrt',\n",
            "                   'log2', 'sqrt', 'log2', 'sqrt', 'log2', 'log2', 'log2',\n",
            "                   'sqrt', 'sqrt', 'sqrt', 'sqrt', 'sqrt', 'log2', 'log2',\n",
            "                   'log2', 'log2', 'sqrt', 'sqrt', 'sqrt', 'sqrt', 'log2',\n",
            "                   'log2', 'log2', 'log2', 'sqrt', 'sqrt', 'sqrt', 'log2',\n",
            "                   'sqrt', 'sqrt', 'log2', 'sqrt', 'sqrt', 'sqrt', 'sqrt',\n",
            "                   'log2', 'sqrt', 'log2', 'log2', 'sqrt', 'sqrt', 'log2',\n",
            "                   'log2', 'log2', 'log2', 'log2', 'log2', 'log2', 'log2',\n",
            "                   'sqrt', 'sqrt', 'sqrt', 'sqrt', 'log2', 'sqrt', 'sqrt',\n",
            "                   'sqrt', 'sqrt', 'sqrt', 'log2', 'log2', 'sqrt', 'log2',\n",
            "                   'sqrt', 'log2', 'sqrt', 'log2', 'sqrt', 'log2', 'sqrt',\n",
            "                   'sqrt', 'sqrt', 'log2', 'sqrt', 'sqrt', 'sqrt', 'sqrt',\n",
            "                   'log2', 'log2', 'sqrt', 'log2', 'sqrt', 'sqrt', 'log2',\n",
            "                   'log2', 'sqrt', 'log2', 'log2', 'sqrt', 'log2', 'log2',\n",
            "                   'sqrt', 'sqrt'],\n",
            "             mask=[False, False, False, False, False, False, False, False,\n",
            "                   False, False, False, False, False, False, False, False,\n",
            "                   False, False, False, False, False, False, False, False,\n",
            "                   False, False, False, False, False, False, False, False,\n",
            "                   False, False, False, False, False, False, False, False,\n",
            "                   False, False, False, False, False, False, False, False,\n",
            "                   False, False, False, False, False, False, False, False,\n",
            "                   False, False, False, False, False, False, False, False,\n",
            "                   False, False, False, False, False, False, False, False,\n",
            "                   False, False, False, False, False, False, False, False,\n",
            "                   False, False, False, False, False, False, False, False,\n",
            "                   False, False, False, False, False, False, False, False,\n",
            "                   False, False, False, False],\n",
            "       fill_value='?',\n",
            "            dtype=object), 'param_min_samples_leaf': masked_array(data=[1, 1, 3, 4, 9, 4, 6, 4, 6, 3, 8, 5, 2, 7, 1, 3, 3, 9,\n",
            "                   8, 4, 9, 1, 3, 5, 8, 3, 1, 6, 4, 2, 2, 4, 5, 3, 1, 5,\n",
            "                   8, 6, 6, 4, 7, 6, 9, 3, 3, 3, 9, 9, 9, 3, 4, 5, 3, 4,\n",
            "                   8, 3, 2, 3, 5, 2, 1, 3, 2, 2, 1, 6, 8, 9, 7, 1, 5, 1,\n",
            "                   1, 9, 9, 1, 3, 5, 7, 4, 7, 5, 1, 3, 3, 5, 9, 2, 8, 3,\n",
            "                   2, 6, 5, 4, 5, 6, 1, 2, 2, 4],\n",
            "             mask=[False, False, False, False, False, False, False, False,\n",
            "                   False, False, False, False, False, False, False, False,\n",
            "                   False, False, False, False, False, False, False, False,\n",
            "                   False, False, False, False, False, False, False, False,\n",
            "                   False, False, False, False, False, False, False, False,\n",
            "                   False, False, False, False, False, False, False, False,\n",
            "                   False, False, False, False, False, False, False, False,\n",
            "                   False, False, False, False, False, False, False, False,\n",
            "                   False, False, False, False, False, False, False, False,\n",
            "                   False, False, False, False, False, False, False, False,\n",
            "                   False, False, False, False, False, False, False, False,\n",
            "                   False, False, False, False, False, False, False, False,\n",
            "                   False, False, False, False],\n",
            "       fill_value=999999), 'param_min_samples_split': masked_array(data=[16, 10, 15, 18, 9, 8, 2, 6, 13, 7, 4, 11, 16, 13, 9,\n",
            "                   12, 12, 16, 13, 17, 19, 16, 18, 7, 3, 11, 17, 3, 12, 3,\n",
            "                   7, 7, 15, 5, 3, 4, 8, 3, 19, 17, 10, 3, 17, 17, 3, 15,\n",
            "                   8, 19, 10, 6, 13, 16, 8, 6, 14, 8, 17, 8, 6, 6, 16, 18,\n",
            "                   18, 3, 6, 13, 4, 12, 6, 2, 6, 12, 2, 2, 7, 13, 9, 19,\n",
            "                   6, 7, 2, 13, 4, 11, 14, 9, 4, 9, 13, 8, 13, 15, 14, 16,\n",
            "                   17, 11, 10, 9, 9, 7],\n",
            "             mask=[False, False, False, False, False, False, False, False,\n",
            "                   False, False, False, False, False, False, False, False,\n",
            "                   False, False, False, False, False, False, False, False,\n",
            "                   False, False, False, False, False, False, False, False,\n",
            "                   False, False, False, False, False, False, False, False,\n",
            "                   False, False, False, False, False, False, False, False,\n",
            "                   False, False, False, False, False, False, False, False,\n",
            "                   False, False, False, False, False, False, False, False,\n",
            "                   False, False, False, False, False, False, False, False,\n",
            "                   False, False, False, False, False, False, False, False,\n",
            "                   False, False, False, False, False, False, False, False,\n",
            "                   False, False, False, False, False, False, False, False,\n",
            "                   False, False, False, False],\n",
            "       fill_value=999999), 'param_n_estimators': masked_array(data=[401, 354, 389, 352, 499, 360, 448, 312, 312, 409, 469,\n",
            "                   264, 190, 494, 330, 483, 149, 421, 276, 321, 391, 183,\n",
            "                   131, 286, 414, 284, 204, 498, 419, 334, 286, 391, 264,\n",
            "                   391, 490, 146, 191, 129, 259, 424, 178, 201, 388, 183,\n",
            "                   424, 322, 328, 296, 330, 451, 451, 370, 284, 414, 418,\n",
            "                   420, 416, 275, 295, 439, 401, 221, 307, 206, 486, 197,\n",
            "                   115, 138, 219, 155, 344, 205, 123, 354, 261, 263, 109,\n",
            "                   104, 458, 384, 376, 373, 411, 145, 205, 182, 167, 323,\n",
            "                   112, 342, 363, 181, 356, 241, 392, 467, 189, 418, 235,\n",
            "                   232],\n",
            "             mask=[False, False, False, False, False, False, False, False,\n",
            "                   False, False, False, False, False, False, False, False,\n",
            "                   False, False, False, False, False, False, False, False,\n",
            "                   False, False, False, False, False, False, False, False,\n",
            "                   False, False, False, False, False, False, False, False,\n",
            "                   False, False, False, False, False, False, False, False,\n",
            "                   False, False, False, False, False, False, False, False,\n",
            "                   False, False, False, False, False, False, False, False,\n",
            "                   False, False, False, False, False, False, False, False,\n",
            "                   False, False, False, False, False, False, False, False,\n",
            "                   False, False, False, False, False, False, False, False,\n",
            "                   False, False, False, False, False, False, False, False,\n",
            "                   False, False, False, False],\n",
            "       fill_value=999999), 'params': [{'bootstrap': True, 'max_depth': None, 'max_features': 'log2', 'min_samples_leaf': 1, 'min_samples_split': 16, 'n_estimators': 401}, {'bootstrap': True, 'max_depth': 50, 'max_features': 'log2', 'min_samples_leaf': 1, 'min_samples_split': 10, 'n_estimators': 354}, {'bootstrap': True, 'max_depth': 10, 'max_features': 'sqrt', 'min_samples_leaf': 3, 'min_samples_split': 15, 'n_estimators': 389}, {'bootstrap': False, 'max_depth': 10, 'max_features': 'log2', 'min_samples_leaf': 4, 'min_samples_split': 18, 'n_estimators': 352}, {'bootstrap': False, 'max_depth': 40, 'max_features': 'log2', 'min_samples_leaf': 9, 'min_samples_split': 9, 'n_estimators': 499}, {'bootstrap': False, 'max_depth': 50, 'max_features': 'log2', 'min_samples_leaf': 4, 'min_samples_split': 8, 'n_estimators': 360}, {'bootstrap': True, 'max_depth': 20, 'max_features': 'sqrt', 'min_samples_leaf': 6, 'min_samples_split': 2, 'n_estimators': 448}, {'bootstrap': False, 'max_depth': 20, 'max_features': 'log2', 'min_samples_leaf': 4, 'min_samples_split': 6, 'n_estimators': 312}, {'bootstrap': True, 'max_depth': 10, 'max_features': 'sqrt', 'min_samples_leaf': 6, 'min_samples_split': 13, 'n_estimators': 312}, {'bootstrap': False, 'max_depth': 20, 'max_features': 'log2', 'min_samples_leaf': 3, 'min_samples_split': 7, 'n_estimators': 409}, {'bootstrap': True, 'max_depth': 30, 'max_features': 'sqrt', 'min_samples_leaf': 8, 'min_samples_split': 4, 'n_estimators': 469}, {'bootstrap': True, 'max_depth': 10, 'max_features': 'log2', 'min_samples_leaf': 5, 'min_samples_split': 11, 'n_estimators': 264}, {'bootstrap': False, 'max_depth': 30, 'max_features': 'log2', 'min_samples_leaf': 2, 'min_samples_split': 16, 'n_estimators': 190}, {'bootstrap': True, 'max_depth': 30, 'max_features': 'log2', 'min_samples_leaf': 7, 'min_samples_split': 13, 'n_estimators': 494}, {'bootstrap': False, 'max_depth': 30, 'max_features': 'sqrt', 'min_samples_leaf': 1, 'min_samples_split': 9, 'n_estimators': 330}, {'bootstrap': True, 'max_depth': None, 'max_features': 'sqrt', 'min_samples_leaf': 3, 'min_samples_split': 12, 'n_estimators': 483}, {'bootstrap': True, 'max_depth': 10, 'max_features': 'sqrt', 'min_samples_leaf': 3, 'min_samples_split': 12, 'n_estimators': 149}, {'bootstrap': True, 'max_depth': 40, 'max_features': 'sqrt', 'min_samples_leaf': 9, 'min_samples_split': 16, 'n_estimators': 421}, {'bootstrap': True, 'max_depth': 50, 'max_features': 'sqrt', 'min_samples_leaf': 8, 'min_samples_split': 13, 'n_estimators': 276}, {'bootstrap': False, 'max_depth': 40, 'max_features': 'log2', 'min_samples_leaf': 4, 'min_samples_split': 17, 'n_estimators': 321}, {'bootstrap': False, 'max_depth': 40, 'max_features': 'log2', 'min_samples_leaf': 9, 'min_samples_split': 19, 'n_estimators': 391}, {'bootstrap': False, 'max_depth': 30, 'max_features': 'log2', 'min_samples_leaf': 1, 'min_samples_split': 16, 'n_estimators': 183}, {'bootstrap': True, 'max_depth': 10, 'max_features': 'log2', 'min_samples_leaf': 3, 'min_samples_split': 18, 'n_estimators': 131}, {'bootstrap': True, 'max_depth': None, 'max_features': 'sqrt', 'min_samples_leaf': 5, 'min_samples_split': 7, 'n_estimators': 286}, {'bootstrap': False, 'max_depth': 10, 'max_features': 'sqrt', 'min_samples_leaf': 8, 'min_samples_split': 3, 'n_estimators': 414}, {'bootstrap': True, 'max_depth': 30, 'max_features': 'sqrt', 'min_samples_leaf': 3, 'min_samples_split': 11, 'n_estimators': 284}, {'bootstrap': False, 'max_depth': 40, 'max_features': 'sqrt', 'min_samples_leaf': 1, 'min_samples_split': 17, 'n_estimators': 204}, {'bootstrap': True, 'max_depth': 20, 'max_features': 'log2', 'min_samples_leaf': 6, 'min_samples_split': 3, 'n_estimators': 498}, {'bootstrap': False, 'max_depth': 20, 'max_features': 'log2', 'min_samples_leaf': 4, 'min_samples_split': 12, 'n_estimators': 419}, {'bootstrap': False, 'max_depth': 40, 'max_features': 'log2', 'min_samples_leaf': 2, 'min_samples_split': 3, 'n_estimators': 334}, {'bootstrap': True, 'max_depth': 10, 'max_features': 'log2', 'min_samples_leaf': 2, 'min_samples_split': 7, 'n_estimators': 286}, {'bootstrap': False, 'max_depth': 40, 'max_features': 'sqrt', 'min_samples_leaf': 4, 'min_samples_split': 7, 'n_estimators': 391}, {'bootstrap': False, 'max_depth': 50, 'max_features': 'sqrt', 'min_samples_leaf': 5, 'min_samples_split': 15, 'n_estimators': 264}, {'bootstrap': False, 'max_depth': None, 'max_features': 'sqrt', 'min_samples_leaf': 3, 'min_samples_split': 5, 'n_estimators': 391}, {'bootstrap': True, 'max_depth': 50, 'max_features': 'log2', 'min_samples_leaf': 1, 'min_samples_split': 3, 'n_estimators': 490}, {'bootstrap': True, 'max_depth': None, 'max_features': 'sqrt', 'min_samples_leaf': 5, 'min_samples_split': 4, 'n_estimators': 146}, {'bootstrap': False, 'max_depth': 20, 'max_features': 'sqrt', 'min_samples_leaf': 8, 'min_samples_split': 8, 'n_estimators': 191}, {'bootstrap': True, 'max_depth': 30, 'max_features': 'log2', 'min_samples_leaf': 6, 'min_samples_split': 3, 'n_estimators': 129}, {'bootstrap': True, 'max_depth': 50, 'max_features': 'sqrt', 'min_samples_leaf': 6, 'min_samples_split': 19, 'n_estimators': 259}, {'bootstrap': True, 'max_depth': 30, 'max_features': 'sqrt', 'min_samples_leaf': 4, 'min_samples_split': 17, 'n_estimators': 424}, {'bootstrap': True, 'max_depth': 10, 'max_features': 'sqrt', 'min_samples_leaf': 7, 'min_samples_split': 10, 'n_estimators': 178}, {'bootstrap': False, 'max_depth': 10, 'max_features': 'sqrt', 'min_samples_leaf': 6, 'min_samples_split': 3, 'n_estimators': 201}, {'bootstrap': False, 'max_depth': 20, 'max_features': 'log2', 'min_samples_leaf': 9, 'min_samples_split': 17, 'n_estimators': 388}, {'bootstrap': False, 'max_depth': 40, 'max_features': 'sqrt', 'min_samples_leaf': 3, 'min_samples_split': 17, 'n_estimators': 183}, {'bootstrap': False, 'max_depth': 50, 'max_features': 'log2', 'min_samples_leaf': 3, 'min_samples_split': 3, 'n_estimators': 424}, {'bootstrap': True, 'max_depth': 50, 'max_features': 'log2', 'min_samples_leaf': 3, 'min_samples_split': 15, 'n_estimators': 322}, {'bootstrap': True, 'max_depth': 40, 'max_features': 'sqrt', 'min_samples_leaf': 9, 'min_samples_split': 8, 'n_estimators': 328}, {'bootstrap': True, 'max_depth': 50, 'max_features': 'sqrt', 'min_samples_leaf': 9, 'min_samples_split': 19, 'n_estimators': 296}, {'bootstrap': False, 'max_depth': 30, 'max_features': 'log2', 'min_samples_leaf': 9, 'min_samples_split': 10, 'n_estimators': 330}, {'bootstrap': True, 'max_depth': 10, 'max_features': 'log2', 'min_samples_leaf': 3, 'min_samples_split': 6, 'n_estimators': 451}, {'bootstrap': False, 'max_depth': 50, 'max_features': 'log2', 'min_samples_leaf': 4, 'min_samples_split': 13, 'n_estimators': 451}, {'bootstrap': True, 'max_depth': None, 'max_features': 'log2', 'min_samples_leaf': 5, 'min_samples_split': 16, 'n_estimators': 370}, {'bootstrap': True, 'max_depth': None, 'max_features': 'log2', 'min_samples_leaf': 3, 'min_samples_split': 8, 'n_estimators': 284}, {'bootstrap': True, 'max_depth': 50, 'max_features': 'log2', 'min_samples_leaf': 4, 'min_samples_split': 6, 'n_estimators': 414}, {'bootstrap': False, 'max_depth': 10, 'max_features': 'log2', 'min_samples_leaf': 8, 'min_samples_split': 14, 'n_estimators': 418}, {'bootstrap': False, 'max_depth': 30, 'max_features': 'log2', 'min_samples_leaf': 3, 'min_samples_split': 8, 'n_estimators': 420}, {'bootstrap': False, 'max_depth': 30, 'max_features': 'sqrt', 'min_samples_leaf': 2, 'min_samples_split': 17, 'n_estimators': 416}, {'bootstrap': True, 'max_depth': 50, 'max_features': 'sqrt', 'min_samples_leaf': 3, 'min_samples_split': 8, 'n_estimators': 275}, {'bootstrap': True, 'max_depth': 50, 'max_features': 'sqrt', 'min_samples_leaf': 5, 'min_samples_split': 6, 'n_estimators': 295}, {'bootstrap': False, 'max_depth': 10, 'max_features': 'sqrt', 'min_samples_leaf': 2, 'min_samples_split': 6, 'n_estimators': 439}, {'bootstrap': False, 'max_depth': 10, 'max_features': 'log2', 'min_samples_leaf': 1, 'min_samples_split': 16, 'n_estimators': 401}, {'bootstrap': True, 'max_depth': 40, 'max_features': 'sqrt', 'min_samples_leaf': 3, 'min_samples_split': 18, 'n_estimators': 221}, {'bootstrap': True, 'max_depth': 30, 'max_features': 'sqrt', 'min_samples_leaf': 2, 'min_samples_split': 18, 'n_estimators': 307}, {'bootstrap': False, 'max_depth': 20, 'max_features': 'sqrt', 'min_samples_leaf': 2, 'min_samples_split': 3, 'n_estimators': 206}, {'bootstrap': True, 'max_depth': 50, 'max_features': 'sqrt', 'min_samples_leaf': 1, 'min_samples_split': 6, 'n_estimators': 486}, {'bootstrap': False, 'max_depth': 40, 'max_features': 'sqrt', 'min_samples_leaf': 6, 'min_samples_split': 13, 'n_estimators': 197}, {'bootstrap': True, 'max_depth': 40, 'max_features': 'log2', 'min_samples_leaf': 8, 'min_samples_split': 4, 'n_estimators': 115}, {'bootstrap': True, 'max_depth': None, 'max_features': 'log2', 'min_samples_leaf': 9, 'min_samples_split': 12, 'n_estimators': 138}, {'bootstrap': False, 'max_depth': 40, 'max_features': 'sqrt', 'min_samples_leaf': 7, 'min_samples_split': 6, 'n_estimators': 219}, {'bootstrap': False, 'max_depth': 20, 'max_features': 'log2', 'min_samples_leaf': 1, 'min_samples_split': 2, 'n_estimators': 155}, {'bootstrap': False, 'max_depth': 40, 'max_features': 'sqrt', 'min_samples_leaf': 5, 'min_samples_split': 6, 'n_estimators': 344}, {'bootstrap': False, 'max_depth': None, 'max_features': 'log2', 'min_samples_leaf': 1, 'min_samples_split': 12, 'n_estimators': 205}, {'bootstrap': True, 'max_depth': None, 'max_features': 'sqrt', 'min_samples_leaf': 1, 'min_samples_split': 2, 'n_estimators': 123}, {'bootstrap': True, 'max_depth': None, 'max_features': 'log2', 'min_samples_leaf': 9, 'min_samples_split': 2, 'n_estimators': 354}, {'bootstrap': False, 'max_depth': None, 'max_features': 'sqrt', 'min_samples_leaf': 9, 'min_samples_split': 7, 'n_estimators': 261}, {'bootstrap': True, 'max_depth': 30, 'max_features': 'log2', 'min_samples_leaf': 1, 'min_samples_split': 13, 'n_estimators': 263}, {'bootstrap': True, 'max_depth': None, 'max_features': 'sqrt', 'min_samples_leaf': 3, 'min_samples_split': 9, 'n_estimators': 109}, {'bootstrap': False, 'max_depth': None, 'max_features': 'sqrt', 'min_samples_leaf': 5, 'min_samples_split': 19, 'n_estimators': 104}, {'bootstrap': False, 'max_depth': 20, 'max_features': 'sqrt', 'min_samples_leaf': 7, 'min_samples_split': 6, 'n_estimators': 458}, {'bootstrap': False, 'max_depth': 20, 'max_features': 'log2', 'min_samples_leaf': 4, 'min_samples_split': 7, 'n_estimators': 384}, {'bootstrap': True, 'max_depth': 10, 'max_features': 'sqrt', 'min_samples_leaf': 7, 'min_samples_split': 2, 'n_estimators': 376}, {'bootstrap': False, 'max_depth': None, 'max_features': 'sqrt', 'min_samples_leaf': 5, 'min_samples_split': 13, 'n_estimators': 373}, {'bootstrap': False, 'max_depth': None, 'max_features': 'sqrt', 'min_samples_leaf': 1, 'min_samples_split': 4, 'n_estimators': 411}, {'bootstrap': True, 'max_depth': 10, 'max_features': 'sqrt', 'min_samples_leaf': 3, 'min_samples_split': 11, 'n_estimators': 145}, {'bootstrap': True, 'max_depth': 30, 'max_features': 'log2', 'min_samples_leaf': 3, 'min_samples_split': 14, 'n_estimators': 205}, {'bootstrap': True, 'max_depth': None, 'max_features': 'log2', 'min_samples_leaf': 5, 'min_samples_split': 9, 'n_estimators': 182}, {'bootstrap': True, 'max_depth': 50, 'max_features': 'sqrt', 'min_samples_leaf': 9, 'min_samples_split': 4, 'n_estimators': 167}, {'bootstrap': True, 'max_depth': 30, 'max_features': 'log2', 'min_samples_leaf': 2, 'min_samples_split': 9, 'n_estimators': 323}, {'bootstrap': False, 'max_depth': 10, 'max_features': 'sqrt', 'min_samples_leaf': 8, 'min_samples_split': 13, 'n_estimators': 112}, {'bootstrap': True, 'max_depth': 20, 'max_features': 'sqrt', 'min_samples_leaf': 3, 'min_samples_split': 8, 'n_estimators': 342}, {'bootstrap': True, 'max_depth': 30, 'max_features': 'log2', 'min_samples_leaf': 2, 'min_samples_split': 13, 'n_estimators': 363}, {'bootstrap': False, 'max_depth': 40, 'max_features': 'log2', 'min_samples_leaf': 6, 'min_samples_split': 15, 'n_estimators': 181}, {'bootstrap': False, 'max_depth': 20, 'max_features': 'sqrt', 'min_samples_leaf': 5, 'min_samples_split': 14, 'n_estimators': 356}, {'bootstrap': True, 'max_depth': 30, 'max_features': 'log2', 'min_samples_leaf': 4, 'min_samples_split': 16, 'n_estimators': 241}, {'bootstrap': False, 'max_depth': None, 'max_features': 'log2', 'min_samples_leaf': 5, 'min_samples_split': 17, 'n_estimators': 392}, {'bootstrap': False, 'max_depth': 10, 'max_features': 'sqrt', 'min_samples_leaf': 6, 'min_samples_split': 11, 'n_estimators': 467}, {'bootstrap': True, 'max_depth': 10, 'max_features': 'log2', 'min_samples_leaf': 1, 'min_samples_split': 10, 'n_estimators': 189}, {'bootstrap': False, 'max_depth': None, 'max_features': 'log2', 'min_samples_leaf': 2, 'min_samples_split': 9, 'n_estimators': 418}, {'bootstrap': True, 'max_depth': 20, 'max_features': 'sqrt', 'min_samples_leaf': 2, 'min_samples_split': 9, 'n_estimators': 235}, {'bootstrap': True, 'max_depth': 10, 'max_features': 'sqrt', 'min_samples_leaf': 4, 'min_samples_split': 7, 'n_estimators': 232}], 'split0_test_score': array([0.91099476, 0.91666667, 0.92857143, 0.91666667, 0.91666667,\n",
            "       0.93333333, 0.92857143, 0.93333333, 0.91752577, 0.93333333,\n",
            "       0.91752577, 0.91099476, 0.91666667, 0.91099476, 0.93877551,\n",
            "       0.93401015, 0.93333333, 0.92783505, 0.92783505, 0.91666667,\n",
            "       0.91666667, 0.91666667, 0.90526316, 0.93333333, 0.92307692,\n",
            "       0.93877551, 0.93877551, 0.91099476, 0.91666667, 0.93877551,\n",
            "       0.91666667, 0.93401015, 0.93333333, 0.93401015, 0.91666667,\n",
            "       0.93333333, 0.92783505, 0.91099476, 0.92227979, 0.92857143,\n",
            "       0.92783505, 0.93877551, 0.91666667, 0.93333333, 0.93333333,\n",
            "       0.91099476, 0.92783505, 0.92783505, 0.91666667, 0.91666667,\n",
            "       0.91666667, 0.91099476, 0.91666667, 0.91666667, 0.91666667,\n",
            "       0.93333333, 0.94358974, 0.93877551, 0.93333333, 0.93401015,\n",
            "       0.91666667, 0.92307692, 0.92307692, 0.93401015, 0.93877551,\n",
            "       0.93333333, 0.91099476, 0.91099476, 0.92783505, 0.94416244,\n",
            "       0.93401015, 0.92227979, 0.94358974, 0.91099476, 0.93333333,\n",
            "       0.91099476, 0.92857143, 0.93877551, 0.93333333, 0.93333333,\n",
            "       0.92307692, 0.92857143, 0.94358974, 0.93877551, 0.91099476,\n",
            "       0.91666667, 0.92783505, 0.91666667, 0.92857143, 0.93877551,\n",
            "       0.91666667, 0.91666667, 0.92307692, 0.91099476, 0.91666667,\n",
            "       0.92857143, 0.91666667, 0.93333333, 0.92857143, 0.92857143]), 'split1_test_score': array([0.92631579, 0.92631579, 0.93193717, 0.92631579, 0.92146597,\n",
            "       0.93193717, 0.93684211, 0.93193717, 0.93193717, 0.93193717,\n",
            "       0.93193717, 0.92146597, 0.92708333, 0.92146597, 0.9375    ,\n",
            "       0.93684211, 0.92631579, 0.92631579, 0.93193717, 0.92631579,\n",
            "       0.92146597, 0.92708333, 0.92146597, 0.93193717, 0.93684211,\n",
            "       0.93193717, 0.94240838, 0.92146597, 0.93193717, 0.92708333,\n",
            "       0.92631579, 0.94736842, 0.94240838, 0.9375    , 0.92708333,\n",
            "       0.92708333, 0.94736842, 0.92146597, 0.93193717, 0.93193717,\n",
            "       0.93193717, 0.94240838, 0.92146597, 0.94736842, 0.93193717,\n",
            "       0.92631579, 0.93193717, 0.92631579, 0.92146597, 0.92631579,\n",
            "       0.93193717, 0.92631579, 0.92631579, 0.92631579, 0.92631579,\n",
            "       0.93193717, 0.94240838, 0.93193717, 0.93193717, 0.9375    ,\n",
            "       0.92708333, 0.93193717, 0.93193717, 0.94240838, 0.93684211,\n",
            "       0.94240838, 0.92146597, 0.92146597, 0.94240838, 0.93193717,\n",
            "       0.94240838, 0.92631579, 0.93684211, 0.92146597, 0.9375    ,\n",
            "       0.92631579, 0.92708333, 0.9375    , 0.94240838, 0.93193717,\n",
            "       0.93193717, 0.94240838, 0.9375    , 0.92631579, 0.92146597,\n",
            "       0.92146597, 0.92631579, 0.92631579, 0.94736842, 0.92631579,\n",
            "       0.92631579, 0.92146597, 0.9375    , 0.92146597, 0.92146597,\n",
            "       0.94240838, 0.92631579, 0.93193717, 0.93121693, 0.9375    ]), 'split2_test_score': array([0.94358974, 0.94845361, 0.9375    , 0.95336788, 0.94845361,\n",
            "       0.95876289, 0.93814433, 0.95876289, 0.93814433, 0.95876289,\n",
            "       0.93264249, 0.93814433, 0.95833333, 0.94358974, 0.94845361,\n",
            "       0.9375    , 0.94300518, 0.93814433, 0.93814433, 0.95336788,\n",
            "       0.94845361, 0.95336788, 0.94845361, 0.93264249, 0.94300518,\n",
            "       0.9375    , 0.94300518, 0.93814433, 0.95336788, 0.95876289,\n",
            "       0.93877551, 0.94791667, 0.94300518, 0.95336788, 0.95384615,\n",
            "       0.93814433, 0.94300518, 0.94300518, 0.9375    , 0.93264249,\n",
            "       0.93264249, 0.94300518, 0.94358974, 0.94300518, 0.95876289,\n",
            "       0.94300518, 0.93814433, 0.93264249, 0.94845361, 0.94845361,\n",
            "       0.95336788, 0.93333333, 0.94845361, 0.94845361, 0.94845361,\n",
            "       0.95876289, 0.94791667, 0.93814433, 0.9375    , 0.94845361,\n",
            "       0.95833333, 0.9375    , 0.9375    , 0.95336788, 0.94300518,\n",
            "       0.94791667, 0.94358974, 0.9375    , 0.94300518, 0.96373057,\n",
            "       0.94300518, 0.95876289, 0.93814433, 0.94300518, 0.9375    ,\n",
            "       0.94358974, 0.94791667, 0.94845361, 0.94300518, 0.95876289,\n",
            "       0.93264249, 0.94791667, 0.95336788, 0.94300518, 0.93814433,\n",
            "       0.93333333, 0.93264249, 0.94845361, 0.94300518, 0.93814433,\n",
            "       0.93877551, 0.95336788, 0.94300518, 0.93814433, 0.94845361,\n",
            "       0.94300518, 0.94845361, 0.95876289, 0.94300518, 0.94300518]), 'split3_test_score': array([0.93121693, 0.93617021, 0.94179894, 0.92063492, 0.91578947,\n",
            "       0.93121693, 0.94179894, 0.93121693, 0.94179894, 0.93121693,\n",
            "       0.94179894, 0.91578947, 0.93121693, 0.92063492, 0.95238095,\n",
            "       0.94179894, 0.93048128, 0.93121693, 0.93121693, 0.93121693,\n",
            "       0.92063492, 0.93048128, 0.92146597, 0.93684211, 0.94179894,\n",
            "       0.94179894, 0.95238095, 0.91578947, 0.93121693, 0.93684211,\n",
            "       0.93121693, 0.95238095, 0.94117647, 0.95238095, 0.93121693,\n",
            "       0.94179894, 0.93684211, 0.92631579, 0.93617021, 0.94179894,\n",
            "       0.93684211, 0.94179894, 0.91578947, 0.95238095, 0.93121693,\n",
            "       0.92631579, 0.93121693, 0.93121693, 0.91578947, 0.92631579,\n",
            "       0.92553191, 0.92063492, 0.93121693, 0.92063492, 0.92063492,\n",
            "       0.93121693, 0.95238095, 0.94179894, 0.94179894, 0.95789474,\n",
            "       0.93121693, 0.94179894, 0.94179894, 0.96335079, 0.94179894,\n",
            "       0.94680851, 0.91578947, 0.91578947, 0.94117647, 0.94179894,\n",
            "       0.95238095, 0.93617021, 0.95287958, 0.91578947, 0.94680851,\n",
            "       0.93121693, 0.93048128, 0.95238095, 0.94680851, 0.93121693,\n",
            "       0.93617021, 0.94680851, 0.95789474, 0.94117647, 0.93121693,\n",
            "       0.92146597, 0.92553191, 0.93617021, 0.93684211, 0.94179894,\n",
            "       0.93684211, 0.92631579, 0.94680851, 0.92631579, 0.92063492,\n",
            "       0.94680851, 0.93121693, 0.93617021, 0.94179894, 0.94680851]), 'split4_test_score': array([0.94845361, 0.95384615, 0.95287958, 0.96410256, 0.95384615,\n",
            "       0.96410256, 0.94791667, 0.96410256, 0.94791667, 0.96907216,\n",
            "       0.94791667, 0.95384615, 0.95876289, 0.93333333, 0.97382199,\n",
            "       0.94791667, 0.94791667, 0.94300518, 0.94791667, 0.95876289,\n",
            "       0.95876289, 0.95918367, 0.94358974, 0.95336788, 0.96373057,\n",
            "       0.95336788, 0.97382199, 0.93877551, 0.95384615, 0.96410256,\n",
            "       0.95876289, 0.96907216, 0.96875   , 0.97916667, 0.95918367,\n",
            "       0.96875   , 0.95833333, 0.93264249, 0.95336788, 0.94736842,\n",
            "       0.95336788, 0.97409326, 0.95876289, 0.97382199, 0.96410256,\n",
            "       0.94358974, 0.94300518, 0.94791667, 0.95876289, 0.95384615,\n",
            "       0.95384615, 0.93264249, 0.95918367, 0.95384615, 0.95384615,\n",
            "       0.96410256, 0.97409326, 0.95833333, 0.95336788, 0.97916667,\n",
            "       0.96410256, 0.95287958, 0.95789474, 0.97916667, 0.96875   ,\n",
            "       0.96373057, 0.93814433, 0.91666667, 0.96373057, 0.96410256,\n",
            "       0.97409326, 0.96907216, 0.94736842, 0.92783505, 0.95833333,\n",
            "       0.94897959, 0.96335079, 0.96373057, 0.96875   , 0.96410256,\n",
            "       0.94791667, 0.97409326, 0.97409326, 0.94845361, 0.94300518,\n",
            "       0.95336788, 0.95336788, 0.95431472, 0.95833333, 0.95833333,\n",
            "       0.94358974, 0.95876289, 0.96842105, 0.94897959, 0.95876289,\n",
            "       0.97409326, 0.95384615, 0.96410256, 0.96373057, 0.94791667]), 'mean_test_score': array([0.93211417, 0.93629049, 0.93853742, 0.93621756, 0.93124437,\n",
            "       0.94387058, 0.93865469, 0.94387058, 0.93546458, 0.9448645 ,\n",
            "       0.93436421, 0.92804814, 0.93841263, 0.92600375, 0.95018641,\n",
            "       0.93961357, 0.93621045, 0.93330346, 0.93541003, 0.93726603,\n",
            "       0.93319681, 0.93735657, 0.92804769, 0.93762459, 0.94169074,\n",
            "       0.9406759 , 0.9500784 , 0.92503401, 0.93740696, 0.94511328,\n",
            "       0.93434756, 0.95014967, 0.94573467, 0.95128513, 0.93759935,\n",
            "       0.94182199, 0.94267682, 0.92688484, 0.93625101, 0.93646369,\n",
            "       0.93652494, 0.94801625, 0.93125495, 0.94998198, 0.94387058,\n",
            "       0.93004425, 0.93442773, 0.93318539, 0.93222772, 0.9343196 ,\n",
            "       0.93626996, 0.92478426, 0.93636733, 0.93318343, 0.93318343,\n",
            "       0.94387058, 0.9520778 , 0.94179786, 0.93958746, 0.95140503,\n",
            "       0.93948057, 0.93743852, 0.93844155, 0.95446077, 0.94583435,\n",
            "       0.94683949, 0.92599686, 0.92048337, 0.94363113, 0.94914634,\n",
            "       0.94917959, 0.94252017, 0.94376484, 0.92381809, 0.94269504,\n",
            "       0.93221936, 0.9394807 , 0.94816813, 0.94686108, 0.94387058,\n",
            "       0.93434869, 0.94795965, 0.95328912, 0.93954531, 0.92896544,\n",
            "       0.92925996, 0.93313862, 0.9363842 , 0.94282409, 0.94067358,\n",
            "       0.93243796, 0.93531584, 0.94376233, 0.92918009, 0.93319681,\n",
            "       0.94697735, 0.93529983, 0.94486123, 0.94166461, 0.94076036]), 'std_test_score': array([0.01325988, 0.01371675, 0.00848876, 0.01894628, 0.01645587,\n",
            "       0.01445454, 0.00633859, 0.01445454, 0.01035957, 0.01590922,\n",
            "       0.01030856, 0.01582332, 0.01711131, 0.01129314, 0.01309666,\n",
            "       0.0048428 , 0.00802757, 0.0063347 , 0.007084  , 0.01613826,\n",
            "       0.01705904, 0.01620904, 0.01589799, 0.00805042, 0.01309563,\n",
            "       0.00710508, 0.01269389, 0.01145428, 0.01430659, 0.01400402,\n",
            "       0.01416078, 0.01128047, 0.01202323, 0.01594599, 0.01624402,\n",
            "       0.01433826, 0.0102134 , 0.01072566, 0.01008323, 0.00699653,\n",
            "       0.00889292, 0.01311957, 0.01706843, 0.01346689, 0.01445454,\n",
            "       0.0121832 , 0.00542884, 0.00770711, 0.01786377, 0.01428849,\n",
            "       0.01496415, 0.00830122, 0.01537752, 0.0150835 , 0.0150835 ,\n",
            "       0.01445454, 0.01155537, 0.00886722, 0.0077044 , 0.01623248,\n",
            "       0.01846143, 0.00993945, 0.01156688, 0.01583727, 0.01166279,\n",
            "       0.00988454, 0.01270317, 0.00913416, 0.01150144, 0.01273866,\n",
            "       0.0137479 , 0.018338  , 0.00592637, 0.01112393, 0.00897881,\n",
            "       0.01339053, 0.0141042 , 0.009613  , 0.01180527, 0.01445454,\n",
            "       0.00803974, 0.01477168, 0.01262858, 0.00734305, 0.01153796,\n",
            "       0.01325042, 0.01041163, 0.01383744, 0.01000143, 0.01028863,\n",
            "       0.00969678, 0.01729885, 0.01473097, 0.01319694, 0.01705904,\n",
            "       0.01490458, 0.0138677 , 0.01370359, 0.01240409, 0.00709975]), 'rank_test_score': array([ 85,  61,  48,  64,  87,  23,  47,  23,  66,  21,  71,  92,  50,\n",
            "        95,   6,  42,  65,  75,  67,  56,  76,  55,  93,  51,  37,  40,\n",
            "         8,  97,  54,  20,  73,   7,  19,   5,  52,  35,  33,  94,  63,\n",
            "        58,  57,  13,  86,   9,  23,  88,  70,  78,  83,  74,  62,  98,\n",
            "        60,  79,  79,  23,   3,  36,  43,   4,  46,  53,  49,   1,  18,\n",
            "        17,  96, 100,  30,  11,  10,  34,  28,  99,  32,  84,  45,  12,\n",
            "        16,  23,  72,  14,   2,  44,  91,  89,  81,  59,  31,  41,  82,\n",
            "        68,  29,  90,  76,  15,  69,  22,  38,  39])}\n",
            "Mejores hiperparámetros: {'bootstrap': False, 'max_depth': 20, 'max_features': 'sqrt', 'min_samples_leaf': 2, 'min_samples_split': 3, 'n_estimators': 206}\n"
          ]
        }
      ],
      "source": [
        "print(\"Mejor modelo:\", best_rf_model)\n",
        "print(\"cv_results:\", cv_results_rf)\n",
        "print(\"Mejores hiperparámetros:\", random_search_rf.best_params_)"
      ]
    },
    {
      "cell_type": "markdown",
      "metadata": {
        "id": "-8tKmzud6iRP"
      },
      "source": [
        "### Gradient Boosting"
      ]
    },
    {
      "cell_type": "code",
      "execution_count": 31,
      "metadata": {
        "colab": {
          "base_uri": "https://localhost:8080/"
        },
        "id": "Vl6mAjAt6jjQ",
        "outputId": "f337a17f-0db9-405d-e6dd-c4c5dab0eead"
      },
      "outputs": [
        {
          "name": "stdout",
          "output_type": "stream",
          "text": [
            "Fitting 3 folds for each of 20 candidates, totalling 60 fits\n"
          ]
        }
      ],
      "source": [
        "from sklearn.model_selection import RandomizedSearchCV\n",
        "from scipy.stats import randint\n",
        "from sklearn.ensemble import GradientBoostingClassifier\n",
        "\n",
        "param_dist_gb = {\n",
        "    'n_estimators': randint(100, 500),\n",
        "    'max_depth': [3, 5, 7, 10],\n",
        "    'learning_rate': [0.01, 0.1, 0.2],\n",
        "    'subsample': [0.6, 0.8, 1.0]\n",
        "}\n",
        "\n",
        "random_search_gb = RandomizedSearchCV(estimator=GradientBoostingClassifier(random_state=42),\n",
        "                                      param_distributions=param_dist_gb,\n",
        "                                      n_iter=20,\n",
        "                                      cv=3,\n",
        "                                      scoring='f1',\n",
        "                                      n_jobs=-1,\n",
        "                                      verbose=1)\n",
        "\n",
        "random_search_gb.fit(X_train, y_train)\n",
        "cv_results_gb = random_search_gb.cv_results_\n",
        "best_gb_model = random_search_gb.best_estimator_\n",
        "\n",
        "# TODO: delete if made in next cell\n",
        "# print(\"Mejor modelo:\", best_gb_model)\n",
        "# print(\"cv_results:\", cv_results_gb)\n",
        "# print(\"Mejores hiperparámetros:\", random_search_gb.best_params_)\n"
      ]
    },
    {
      "cell_type": "code",
      "execution_count": 33,
      "metadata": {},
      "outputs": [
        {
          "name": "stdout",
          "output_type": "stream",
          "text": [
            "Collecting pandas\n",
            "  Obtaining dependency information for pandas from https://files.pythonhosted.org/packages/22/a5/a0b255295406ed54269814bc93723cfd1a0da63fb9aaf99e1364f07923e5/pandas-2.2.2-cp312-cp312-win_amd64.whl.metadata\n",
            "  Downloading pandas-2.2.2-cp312-cp312-win_amd64.whl.metadata (19 kB)\n",
            "Requirement already satisfied: numpy>=1.26.0 in c:\\users\\santiago\\.pyenv\\pyenv-win\\versions\\3.12.1\\lib\\site-packages (from pandas) (1.26.4)\n",
            "Requirement already satisfied: python-dateutil>=2.8.2 in c:\\users\\santiago\\.pyenv\\pyenv-win\\versions\\3.12.1\\lib\\site-packages (from pandas) (2.8.2)\n",
            "Collecting pytz>=2020.1 (from pandas)\n",
            "  Obtaining dependency information for pytz>=2020.1 from https://files.pythonhosted.org/packages/9c/3d/a121f284241f08268b21359bd425f7d4825cffc5ac5cd0e1b3d82ffd2b10/pytz-2024.1-py2.py3-none-any.whl.metadata\n",
            "  Downloading pytz-2024.1-py2.py3-none-any.whl.metadata (22 kB)\n",
            "Collecting tzdata>=2022.7 (from pandas)\n",
            "  Obtaining dependency information for tzdata>=2022.7 from https://files.pythonhosted.org/packages/65/58/f9c9e6be752e9fcb8b6a0ee9fb87e6e7a1f6bcab2cdc73f02bb7ba91ada0/tzdata-2024.1-py2.py3-none-any.whl.metadata\n",
            "  Downloading tzdata-2024.1-py2.py3-none-any.whl.metadata (1.4 kB)\n",
            "Requirement already satisfied: six>=1.5 in c:\\users\\santiago\\.pyenv\\pyenv-win\\versions\\3.12.1\\lib\\site-packages (from python-dateutil>=2.8.2->pandas) (1.16.0)\n",
            "Downloading pandas-2.2.2-cp312-cp312-win_amd64.whl (11.5 MB)\n",
            "   ---------------------------------------- 0.0/11.5 MB ? eta -:--:--\n",
            "    --------------------------------------- 0.2/11.5 MB 4.6 MB/s eta 0:00:03\n",
            "   -- ------------------------------------- 0.6/11.5 MB 6.6 MB/s eta 0:00:02\n",
            "   ---- ----------------------------------- 1.2/11.5 MB 8.2 MB/s eta 0:00:02\n",
            "   ------ --------------------------------- 1.8/11.5 MB 9.7 MB/s eta 0:00:01\n",
            "   --------- ------------------------------ 2.6/11.5 MB 11.2 MB/s eta 0:00:01\n",
            "   ------------ --------------------------- 3.6/11.5 MB 13.7 MB/s eta 0:00:01\n",
            "   ----------------- ---------------------- 4.9/11.5 MB 15.0 MB/s eta 0:00:01\n",
            "   ---------------------- ----------------- 6.5/11.5 MB 17.2 MB/s eta 0:00:01\n",
            "   ----------------------------- ---------- 8.4/11.5 MB 19.9 MB/s eta 0:00:01\n",
            "   ------------------------------------- -- 10.8/11.5 MB 26.2 MB/s eta 0:00:01\n",
            "   ---------------------------------------- 11.5/11.5 MB 29.7 MB/s eta 0:00:00\n",
            "Downloading pytz-2024.1-py2.py3-none-any.whl (505 kB)\n",
            "   ---------------------------------------- 0.0/505.5 kB ? eta -:--:--\n",
            "   --------------------------------------- 505.5/505.5 kB 33.0 MB/s eta 0:00:00\n",
            "Downloading tzdata-2024.1-py2.py3-none-any.whl (345 kB)\n",
            "   ---------------------------------------- 0.0/345.4 kB ? eta -:--:--\n",
            "   ---------------------------------------- 345.4/345.4 kB ? eta 0:00:00\n",
            "Installing collected packages: pytz, tzdata, pandas\n",
            "Successfully installed pandas-2.2.2 pytz-2024.1 tzdata-2024.1\n",
            "Note: you may need to restart the kernel to use updated packages.\n"
          ]
        },
        {
          "name": "stderr",
          "output_type": "stream",
          "text": [
            "\n",
            "[notice] A new release of pip is available: 23.2.1 -> 24.1\n",
            "[notice] To update, run: c:\\Users\\Santiago\\.pyenv\\pyenv-win\\versions\\3.12.1\\python.exe -m pip install --upgrade pip\n"
          ]
        }
      ],
      "source": [
        "%pip install pandas"
      ]
    },
    {
      "cell_type": "code",
      "execution_count": 34,
      "metadata": {},
      "outputs": [
        {
          "name": "stdout",
          "output_type": "stream",
          "text": [
            "Mejor modelo: GradientBoostingClassifier(learning_rate=0.2, n_estimators=495, random_state=42,\n",
            "                           subsample=0.8)\n",
            "cv_results:    mean_fit_time  std_fit_time  mean_score_time  std_score_time  \\\n",
            "0      78.240763     10.938288         0.004503        0.000408   \n",
            "1      39.734351      1.150289         0.003673        0.000626   \n",
            "2      38.781362      0.207843         0.005005        0.000409   \n",
            "3      44.671742      1.005994         0.004170        0.000238   \n",
            "4      60.021576      2.429651         0.004667        0.000472   \n",
            "\n",
            "   param_learning_rate  param_max_depth  param_n_estimators  param_subsample  \\\n",
            "0                 0.01                7                 249              1.0   \n",
            "1                 0.10                5                 149              1.0   \n",
            "2                 0.10                7                 186              0.6   \n",
            "3                 0.20                5                 364              0.6   \n",
            "4                 0.20                3                 495              0.8   \n",
            "\n",
            "                                              params  split0_test_score  \\\n",
            "0  {'learning_rate': 0.01, 'max_depth': 7, 'n_est...           0.922601   \n",
            "1  {'learning_rate': 0.1, 'max_depth': 5, 'n_esti...           0.939394   \n",
            "2  {'learning_rate': 0.1, 'max_depth': 7, 'n_esti...           0.935385   \n",
            "3  {'learning_rate': 0.2, 'max_depth': 5, 'n_esti...           0.942249   \n",
            "4  {'learning_rate': 0.2, 'max_depth': 3, 'n_esti...           0.951220   \n",
            "\n",
            "   split1_test_score  split2_test_score  mean_test_score  std_test_score  \\\n",
            "0           0.916409           0.900958         0.913323        0.009101   \n",
            "1           0.950311           0.952077         0.947260        0.005609   \n",
            "2           0.960000           0.956250         0.950545        0.010829   \n",
            "3           0.966361           0.952978         0.953863        0.009863   \n",
            "4           0.966361           0.952978         0.956853        0.006761   \n",
            "\n",
            "   rank_test_score  \n",
            "0               19  \n",
            "1               12  \n",
            "2                8  \n",
            "3                3  \n",
            "4                1  \n",
            "Mejores hiperparámetros: {'learning_rate': 0.2, 'max_depth': 3, 'n_estimators': 495, 'subsample': 0.8}\n"
          ]
        }
      ],
      "source": [
        "print(\"Mejor modelo:\", best_gb_model)\n",
        "\n",
        "import pandas as pd\n",
        "\n",
        "# Convertir cv_results_ a un DataFrame\n",
        "results_df = pd.DataFrame(cv_results_gb)\n",
        "\n",
        "# Mostrar las primeras filas del DataFrame para ver los resultados\n",
        "print(\"cv_results:\", results_df.head())\n",
        "\n",
        "# print(\"cv_results:\", cv_results_gb)\n",
        "print(\"Mejores hiperparámetros:\", random_search_gb.best_params_)"
      ]
    },
    {
      "cell_type": "markdown",
      "metadata": {
        "id": "G26dnJtm6t1c"
      },
      "source": [
        "### Árboles de decisión"
      ]
    },
    {
      "cell_type": "code",
      "execution_count": 35,
      "metadata": {
        "id": "j4AJlLlf6vha"
      },
      "outputs": [
        {
          "name": "stdout",
          "output_type": "stream",
          "text": [
            "Fitting 5 folds for each of 36 candidates, totalling 180 fits\n"
          ]
        }
      ],
      "source": [
        "from sklearn.model_selection import GridSearchCV\n",
        "from sklearn.tree import DecisionTreeClassifier\n",
        "\n",
        "param_grid_dt = {\n",
        "    'max_depth': [None, 10, 20, 30],\n",
        "    'min_samples_split': [2, 5, 10],\n",
        "    'min_samples_leaf': [1, 2, 4]\n",
        "}\n",
        "\n",
        "grid_search_dt = GridSearchCV(estimator=DecisionTreeClassifier(random_state=42),\n",
        "                              param_grid=param_grid_dt,\n",
        "                              cv=5,\n",
        "                              scoring='f1',\n",
        "                              n_jobs=-1,\n",
        "                              verbose=1)\n",
        "\n",
        "grid_search_dt.fit(X_train, y_train)\n",
        "cv_result_dt = grid_search_dt.cv_results_\n",
        "best_dt_model = grid_search_dt.best_estimator_\n",
        "\n",
        "# TODO: delete if made in next cell\n",
        "# print(\"Mejor modelo:\", best_dt_model)\n",
        "# print(\"cv_results:\", cv_result_dt)\n",
        "# print(\"Mejores hiperparámetros:\", grid_search_dt.best_params_)\n"
      ]
    },
    {
      "cell_type": "code",
      "execution_count": 36,
      "metadata": {},
      "outputs": [
        {
          "name": "stdout",
          "output_type": "stream",
          "text": [
            "Mejor modelo: DecisionTreeClassifier(min_samples_leaf=4, random_state=42)\n",
            "cv_results: {'mean_fit_time': array([0.57916842, 0.56826181, 0.564957  , 0.53587351, 0.53157229,\n",
            "       0.47021503, 0.43798151, 0.43087468, 0.4740169 , 0.51594973,\n",
            "       0.5135591 , 0.50435009, 0.47341571, 0.54677634, 0.50854311,\n",
            "       0.47691073, 0.44968972, 0.45219789, 0.5369935 , 0.53428493,\n",
            "       0.50205207, 0.47503209, 0.46921668, 0.50993814, 0.44399161,\n",
            "       0.43367729, 0.44088187, 0.51905627, 0.5090414 , 0.4950418 ,\n",
            "       0.48964357, 0.49303808, 0.4869318 , 0.44060259, 0.41814756,\n",
            "       0.40474272]), 'std_fit_time': array([0.09007959, 0.07871079, 0.08879998, 0.06222754, 0.0673204 ,\n",
            "       0.0436684 , 0.03729419, 0.05143915, 0.06151356, 0.0490777 ,\n",
            "       0.04923622, 0.04201112, 0.03597816, 0.08060227, 0.0447399 ,\n",
            "       0.04304211, 0.05007989, 0.04240586, 0.03312937, 0.05246877,\n",
            "       0.04910222, 0.03591223, 0.04296075, 0.06918843, 0.03051167,\n",
            "       0.04228588, 0.03471367, 0.06601044, 0.08229236, 0.0512711 ,\n",
            "       0.01838359, 0.0128235 , 0.04511773, 0.04397561, 0.03230489,\n",
            "       0.0353345 ]), 'mean_score_time': array([0.0022048 , 0.00210114, 0.00190239, 0.00180058, 0.00200367,\n",
            "       0.00180192, 0.00149994, 0.00200024, 0.00180273, 0.00300326,\n",
            "       0.00180116, 0.00180106, 0.00140181, 0.00150137, 0.00190325,\n",
            "       0.00190187, 0.00240412, 0.00170217, 0.00140204, 0.00200243,\n",
            "       0.0019033 , 0.0022017 , 0.0021009 , 0.00180359, 0.00190034,\n",
            "       0.00180192, 0.001302  , 0.00150104, 0.00119939, 0.00150247,\n",
            "       0.00200195, 0.00172272, 0.00138469, 0.00150185, 0.00121069,\n",
            "       0.00110235]), 'std_score_time': array([2.45951876e-04, 2.01377901e-04, 6.61943935e-04, 3.99619109e-04,\n",
            "       3.15082470e-04, 2.42618073e-04, 4.46865200e-04, 1.02934995e-06,\n",
            "       4.01526374e-04, 2.30350973e-03, 4.00742827e-04, 7.50636646e-04,\n",
            "       4.88403345e-04, 6.33467808e-04, 3.72753565e-04, 6.62440348e-04,\n",
            "       3.75765217e-04, 6.00911307e-04, 3.74413211e-04, 5.50080251e-04,\n",
            "       5.85199517e-04, 3.99526361e-04, 2.03156884e-04, 6.81534234e-04,\n",
            "       1.98793726e-04, 7.46341133e-04, 4.00554311e-04, 4.48355590e-04,\n",
            "       4.00352535e-04, 4.45693047e-04, 6.32335972e-04, 5.05179807e-04,\n",
            "       4.71659623e-04, 4.48678895e-04, 3.97411347e-04, 2.01392534e-04]), 'param_max_depth': masked_array(data=[nan, nan, nan, nan, nan, nan, nan, nan, nan, 10.0,\n",
            "                   10.0, 10.0, 10.0, 10.0, 10.0, 10.0, 10.0, 10.0, 20.0,\n",
            "                   20.0, 20.0, 20.0, 20.0, 20.0, 20.0, 20.0, 20.0, 30.0,\n",
            "                   30.0, 30.0, 30.0, 30.0, 30.0, 30.0, 30.0, 30.0],\n",
            "             mask=[False, False, False, False, False, False, False, False,\n",
            "                   False, False, False, False, False, False, False, False,\n",
            "                   False, False, False, False, False, False, False, False,\n",
            "                   False, False, False, False, False, False, False, False,\n",
            "                   False, False, False, False],\n",
            "       fill_value=1e+20), 'param_min_samples_leaf': masked_array(data=[1, 1, 1, 2, 2, 2, 4, 4, 4, 1, 1, 1, 2, 2, 2, 4, 4, 4,\n",
            "                   1, 1, 1, 2, 2, 2, 4, 4, 4, 1, 1, 1, 2, 2, 2, 4, 4, 4],\n",
            "             mask=[False, False, False, False, False, False, False, False,\n",
            "                   False, False, False, False, False, False, False, False,\n",
            "                   False, False, False, False, False, False, False, False,\n",
            "                   False, False, False, False, False, False, False, False,\n",
            "                   False, False, False, False],\n",
            "       fill_value=999999), 'param_min_samples_split': masked_array(data=[2, 5, 10, 2, 5, 10, 2, 5, 10, 2, 5, 10, 2, 5, 10, 2, 5,\n",
            "                   10, 2, 5, 10, 2, 5, 10, 2, 5, 10, 2, 5, 10, 2, 5, 10,\n",
            "                   2, 5, 10],\n",
            "             mask=[False, False, False, False, False, False, False, False,\n",
            "                   False, False, False, False, False, False, False, False,\n",
            "                   False, False, False, False, False, False, False, False,\n",
            "                   False, False, False, False, False, False, False, False,\n",
            "                   False, False, False, False],\n",
            "       fill_value=999999), 'params': [{'max_depth': None, 'min_samples_leaf': 1, 'min_samples_split': 2}, {'max_depth': None, 'min_samples_leaf': 1, 'min_samples_split': 5}, {'max_depth': None, 'min_samples_leaf': 1, 'min_samples_split': 10}, {'max_depth': None, 'min_samples_leaf': 2, 'min_samples_split': 2}, {'max_depth': None, 'min_samples_leaf': 2, 'min_samples_split': 5}, {'max_depth': None, 'min_samples_leaf': 2, 'min_samples_split': 10}, {'max_depth': None, 'min_samples_leaf': 4, 'min_samples_split': 2}, {'max_depth': None, 'min_samples_leaf': 4, 'min_samples_split': 5}, {'max_depth': None, 'min_samples_leaf': 4, 'min_samples_split': 10}, {'max_depth': 10, 'min_samples_leaf': 1, 'min_samples_split': 2}, {'max_depth': 10, 'min_samples_leaf': 1, 'min_samples_split': 5}, {'max_depth': 10, 'min_samples_leaf': 1, 'min_samples_split': 10}, {'max_depth': 10, 'min_samples_leaf': 2, 'min_samples_split': 2}, {'max_depth': 10, 'min_samples_leaf': 2, 'min_samples_split': 5}, {'max_depth': 10, 'min_samples_leaf': 2, 'min_samples_split': 10}, {'max_depth': 10, 'min_samples_leaf': 4, 'min_samples_split': 2}, {'max_depth': 10, 'min_samples_leaf': 4, 'min_samples_split': 5}, {'max_depth': 10, 'min_samples_leaf': 4, 'min_samples_split': 10}, {'max_depth': 20, 'min_samples_leaf': 1, 'min_samples_split': 2}, {'max_depth': 20, 'min_samples_leaf': 1, 'min_samples_split': 5}, {'max_depth': 20, 'min_samples_leaf': 1, 'min_samples_split': 10}, {'max_depth': 20, 'min_samples_leaf': 2, 'min_samples_split': 2}, {'max_depth': 20, 'min_samples_leaf': 2, 'min_samples_split': 5}, {'max_depth': 20, 'min_samples_leaf': 2, 'min_samples_split': 10}, {'max_depth': 20, 'min_samples_leaf': 4, 'min_samples_split': 2}, {'max_depth': 20, 'min_samples_leaf': 4, 'min_samples_split': 5}, {'max_depth': 20, 'min_samples_leaf': 4, 'min_samples_split': 10}, {'max_depth': 30, 'min_samples_leaf': 1, 'min_samples_split': 2}, {'max_depth': 30, 'min_samples_leaf': 1, 'min_samples_split': 5}, {'max_depth': 30, 'min_samples_leaf': 1, 'min_samples_split': 10}, {'max_depth': 30, 'min_samples_leaf': 2, 'min_samples_split': 2}, {'max_depth': 30, 'min_samples_leaf': 2, 'min_samples_split': 5}, {'max_depth': 30, 'min_samples_leaf': 2, 'min_samples_split': 10}, {'max_depth': 30, 'min_samples_leaf': 4, 'min_samples_split': 2}, {'max_depth': 30, 'min_samples_leaf': 4, 'min_samples_split': 5}, {'max_depth': 30, 'min_samples_leaf': 4, 'min_samples_split': 10}], 'split0_test_score': array([0.90909091, 0.91282051, 0.90721649, 0.89119171, 0.89583333,\n",
            "       0.90721649, 0.89690722, 0.89690722, 0.89005236, 0.90909091,\n",
            "       0.91282051, 0.90721649, 0.89119171, 0.89583333, 0.90721649,\n",
            "       0.89690722, 0.89690722, 0.89005236, 0.90909091, 0.91282051,\n",
            "       0.90721649, 0.89119171, 0.89583333, 0.90721649, 0.89690722,\n",
            "       0.89690722, 0.89005236, 0.90909091, 0.91282051, 0.90721649,\n",
            "       0.89119171, 0.89583333, 0.90721649, 0.89690722, 0.89690722,\n",
            "       0.89005236]), 'split1_test_score': array([0.91099476, 0.92783505, 0.92783505, 0.90052356, 0.91578947,\n",
            "       0.92227979, 0.94680851, 0.94680851, 0.94736842, 0.91099476,\n",
            "       0.92783505, 0.92783505, 0.90052356, 0.91578947, 0.92227979,\n",
            "       0.94680851, 0.94680851, 0.94736842, 0.91099476, 0.92783505,\n",
            "       0.92783505, 0.90052356, 0.91578947, 0.92227979, 0.94680851,\n",
            "       0.94680851, 0.94736842, 0.91099476, 0.92783505, 0.92783505,\n",
            "       0.90052356, 0.91578947, 0.92227979, 0.94680851, 0.94680851,\n",
            "       0.94736842]), 'split2_test_score': array([0.90721649, 0.90816327, 0.89447236, 0.91099476, 0.91099476,\n",
            "       0.9035533 , 0.9025641 , 0.9025641 , 0.9025641 , 0.90721649,\n",
            "       0.90816327, 0.89447236, 0.91099476, 0.91099476, 0.9035533 ,\n",
            "       0.9025641 , 0.9025641 , 0.9025641 , 0.90721649, 0.90816327,\n",
            "       0.89447236, 0.91099476, 0.91099476, 0.9035533 , 0.9025641 ,\n",
            "       0.9025641 , 0.9025641 , 0.90721649, 0.90816327, 0.89447236,\n",
            "       0.91099476, 0.91099476, 0.9035533 , 0.9025641 , 0.9025641 ,\n",
            "       0.9025641 ]), 'split3_test_score': array([0.91282051, 0.91752577, 0.90721649, 0.92708333, 0.92146597,\n",
            "       0.92631579, 0.91752577, 0.91752577, 0.91752577, 0.91282051,\n",
            "       0.91752577, 0.90721649, 0.92708333, 0.92146597, 0.92631579,\n",
            "       0.91752577, 0.91752577, 0.91752577, 0.91282051, 0.91752577,\n",
            "       0.90721649, 0.92708333, 0.92146597, 0.92631579, 0.91752577,\n",
            "       0.91752577, 0.91752577, 0.91282051, 0.91752577, 0.90721649,\n",
            "       0.92708333, 0.92146597, 0.92631579, 0.91752577, 0.91752577,\n",
            "       0.91752577]), 'split4_test_score': array([0.87755102, 0.86734694, 0.89005236, 0.89473684, 0.89473684,\n",
            "       0.88888889, 0.90625   , 0.90625   , 0.89473684, 0.87755102,\n",
            "       0.86734694, 0.89005236, 0.89473684, 0.89473684, 0.88888889,\n",
            "       0.90625   , 0.90625   , 0.89473684, 0.87755102, 0.86734694,\n",
            "       0.89005236, 0.89473684, 0.89473684, 0.88888889, 0.90625   ,\n",
            "       0.90625   , 0.89473684, 0.87755102, 0.86734694, 0.89005236,\n",
            "       0.89473684, 0.89473684, 0.88888889, 0.90625   , 0.90625   ,\n",
            "       0.89473684]), 'mean_test_score': array([0.90353474, 0.90673831, 0.90535855, 0.90490604, 0.90776408,\n",
            "       0.90965085, 0.91401112, 0.91401112, 0.9104495 , 0.90353474,\n",
            "       0.90673831, 0.90535855, 0.90490604, 0.90776408, 0.90965085,\n",
            "       0.91401112, 0.91401112, 0.9104495 , 0.90353474, 0.90673831,\n",
            "       0.90535855, 0.90490604, 0.90776408, 0.90965085, 0.91401112,\n",
            "       0.91401112, 0.9104495 , 0.90353474, 0.90673831, 0.90535855,\n",
            "       0.90490604, 0.90776408, 0.90965085, 0.91401112, 0.91401112,\n",
            "       0.9104495 ]), 'std_test_score': array([0.01312599, 0.02074679, 0.01315208, 0.01295844, 0.01072043,\n",
            "       0.01350093, 0.01773039, 0.01773039, 0.02067941, 0.01312599,\n",
            "       0.02074679, 0.01315208, 0.01295844, 0.01072043, 0.01350093,\n",
            "       0.01773039, 0.01773039, 0.02067941, 0.01312599, 0.02074679,\n",
            "       0.01315208, 0.01295844, 0.01072043, 0.01350093, 0.01773039,\n",
            "       0.01773039, 0.02067941, 0.01312599, 0.02074679, 0.01315208,\n",
            "       0.01295844, 0.01072043, 0.01350093, 0.01773039, 0.01773039,\n",
            "       0.02067941]), 'rank_test_score': array([33, 21, 25, 29, 17, 13,  1,  1,  9, 33, 21, 25, 29, 17, 13,  1,  1,\n",
            "        9, 33, 21, 25, 29, 17, 13,  1,  1,  9, 33, 21, 25, 29, 17, 13,  1,\n",
            "        1,  9])}\n",
            "Mejores hiperparámetros: {'max_depth': None, 'min_samples_leaf': 4, 'min_samples_split': 2}\n"
          ]
        }
      ],
      "source": [
        "print(\"Mejor modelo:\", best_dt_model)\n",
        "print(\"cv_results:\", cv_result_dt)\n",
        "print(\"Mejores hiperparámetros:\", grid_search_dt.best_params_)"
      ]
    },
    {
      "cell_type": "markdown",
      "metadata": {
        "id": "NfNKFxJc7LwS"
      },
      "source": [
        "### Regresión logística"
      ]
    },
    {
      "cell_type": "code",
      "execution_count": 37,
      "metadata": {
        "id": "EOPLSmeG7NVJ"
      },
      "outputs": [
        {
          "name": "stdout",
          "output_type": "stream",
          "text": [
            "Fitting 5 folds for each of 8 candidates, totalling 40 fits\n"
          ]
        }
      ],
      "source": [
        "from sklearn.linear_model import LogisticRegression\n",
        "\n",
        "param_grid_lr = {\n",
        "    'C': [0.1, 1, 10, 100],\n",
        "    'penalty': ['l1', 'l2'],\n",
        "    'solver': ['liblinear']\n",
        "}\n",
        "\n",
        "grid_search_lr = GridSearchCV(estimator=LogisticRegression(random_state=42, max_iter=1000),\n",
        "                              param_grid=param_grid_lr,\n",
        "                              cv=5,\n",
        "                              scoring='f1',\n",
        "                              n_jobs=-1,\n",
        "                              verbose=1)\n",
        "\n",
        "grid_search_lr.fit(X_train, y_train)\n",
        "cv_results_lr = grid_search_lr.cv_results_\n",
        "best_lr_model = grid_search_lr.best_estimator_\n",
        "\n",
        "# TODO: delete if made in next cell\n",
        "# print(\"Mejor modelo:\", best_lr_model)\n",
        "# print(\"cv_results:\", cv_results_lr)\n",
        "# print(\"Mejores hiperparámetros:\", grid_search_lr.best_params_)\n"
      ]
    },
    {
      "cell_type": "code",
      "execution_count": 38,
      "metadata": {},
      "outputs": [
        {
          "name": "stdout",
          "output_type": "stream",
          "text": [
            "Mejor modelo: LogisticRegression(C=0.1, max_iter=1000, random_state=42, solver='liblinear')\n",
            "cv_results: {'mean_fit_time': array([0.26894403, 0.59335647, 1.52860398, 0.8105361 , 2.88873148,\n",
            "       0.76805553, 2.68196554, 0.65145345]), 'std_fit_time': array([0.07677128, 0.18540821, 0.32344248, 0.16719531, 0.45146015,\n",
            "       0.23979071, 0.53067692, 0.11860011]), 'mean_score_time': array([0.00551929, 0.00785642, 0.00260749, 0.00712972, 0.00160422,\n",
            "       0.0036109 , 0.00139985, 0.00221577]), 'std_score_time': array([0.00484095, 0.00480786, 0.00107574, 0.00428929, 0.00037327,\n",
            "       0.00140665, 0.00048942, 0.00066181]), 'param_C': masked_array(data=[0.1, 0.1, 1.0, 1.0, 10.0, 10.0, 100.0, 100.0],\n",
            "             mask=[False, False, False, False, False, False, False, False],\n",
            "       fill_value=1e+20), 'param_penalty': masked_array(data=['l1', 'l2', 'l1', 'l2', 'l1', 'l2', 'l1', 'l2'],\n",
            "             mask=[False, False, False, False, False, False, False, False],\n",
            "       fill_value='?',\n",
            "            dtype=object), 'param_solver': masked_array(data=['liblinear', 'liblinear', 'liblinear', 'liblinear',\n",
            "                   'liblinear', 'liblinear', 'liblinear', 'liblinear'],\n",
            "             mask=[False, False, False, False, False, False, False, False],\n",
            "       fill_value='?',\n",
            "            dtype=object), 'params': [{'C': 0.1, 'penalty': 'l1', 'solver': 'liblinear'}, {'C': 0.1, 'penalty': 'l2', 'solver': 'liblinear'}, {'C': 1, 'penalty': 'l1', 'solver': 'liblinear'}, {'C': 1, 'penalty': 'l2', 'solver': 'liblinear'}, {'C': 10, 'penalty': 'l1', 'solver': 'liblinear'}, {'C': 10, 'penalty': 'l2', 'solver': 'liblinear'}, {'C': 100, 'penalty': 'l1', 'solver': 'liblinear'}, {'C': 100, 'penalty': 'l2', 'solver': 'liblinear'}], 'split0_test_score': array([0.94845361, 0.95336788, 0.95336788, 0.95336788, 0.95384615,\n",
            "       0.95336788, 0.95384615, 0.94845361]), 'split1_test_score': array([0.95431472, 0.93939394, 0.94949495, 0.93069307, 0.93069307,\n",
            "       0.93069307, 0.92079208, 0.93069307]), 'split2_test_score': array([0.91752577, 0.94300518, 0.93264249, 0.94845361, 0.95384615,\n",
            "       0.95833333, 0.95384615, 0.95336788]), 'split3_test_score': array([0.94791667, 0.94240838, 0.94736842, 0.94240838, 0.94791667,\n",
            "       0.94300518, 0.94791667, 0.94300518]), 'split4_test_score': array([0.92929293, 0.94472362, 0.93467337, 0.92462312, 0.92537313,\n",
            "       0.91      , 0.93      , 0.90547264]), 'mean_test_score': array([0.93950074, 0.9445798 , 0.94350942, 0.93990921, 0.94233504,\n",
            "       0.93907989, 0.94128021, 0.93619847]), 'std_test_score': array([0.0138386 , 0.00471887, 0.00829546, 0.01076095, 0.01199506,\n",
            "       0.01735643, 0.01346741, 0.0171213 ]), 'rank_test_score': array([6, 1, 2, 5, 3, 7, 4, 8])}\n",
            "Mejores hiperparámetros: {'C': 0.1, 'penalty': 'l2', 'solver': 'liblinear'}\n"
          ]
        }
      ],
      "source": [
        "print(\"Mejor modelo:\", best_lr_model)\n",
        "print(\"cv_results:\", cv_results_lr)\n",
        "print(\"Mejores hiperparámetros:\", grid_search_lr.best_params_)"
      ]
    },
    {
      "cell_type": "markdown",
      "metadata": {
        "id": "VbbHsTQG7RrG"
      },
      "source": [
        "### Redes neuronales"
      ]
    },
    {
      "cell_type": "code",
      "execution_count": 39,
      "metadata": {
        "id": "GunMqtyf7TLv"
      },
      "outputs": [
        {
          "name": "stdout",
          "output_type": "stream",
          "text": [
            "Fitting 5 folds for each of 64 candidates, totalling 320 fits\n"
          ]
        }
      ],
      "source": [
        "from sklearn.neural_network import MLPClassifier\n",
        "\n",
        "param_grid_mlp = {\n",
        "    'hidden_layer_sizes': [(50,), (100,), (50,50), (100,50)],\n",
        "    'activation': ['tanh', 'relu'],\n",
        "    'solver': ['sgd', 'adam'],\n",
        "    'alpha': [0.0001, 0.05],\n",
        "    'learning_rate': ['constant', 'adaptive']\n",
        "}\n",
        "\n",
        "grid_search_mlp = GridSearchCV(estimator=MLPClassifier(random_state=42, max_iter=1000),\n",
        "                               param_grid=param_grid_mlp,\n",
        "                               cv=5,\n",
        "                               scoring='f1',\n",
        "                               n_jobs=-1,\n",
        "                               verbose=1)\n",
        "\n",
        "grid_search_mlp.fit(X_train, y_train)\n",
        "cv_results_mlp = grid_search_mlp.cv_results_\n",
        "best_mlp_model = grid_search_mlp.best_estimator_\n",
        "\n",
        "# TODO: delete if made in next cell\n",
        "# print(\"Mejor modelo:\", best_mlp_model)\n",
        "# print(\"cv_results:\", cv_results_mlp)\n",
        "# print(\"Mejores hiperparámetros:\", grid_search_mlp.best_params_)\n",
        "\n"
      ]
    },
    {
      "cell_type": "code",
      "execution_count": 40,
      "metadata": {},
      "outputs": [
        {
          "name": "stdout",
          "output_type": "stream",
          "text": [
            "Mejor modelo: MLPClassifier(alpha=0.05, hidden_layer_sizes=(100, 50), max_iter=1000,\n",
            "              random_state=42, solver='sgd')\n",
            "cv_results: {'mean_fit_time': array([ 3.87970467,  0.75832758,  5.36677337,  0.87366238, 13.5084259 ,\n",
            "        1.46685386, 13.79641633,  1.24746413,  3.78260603,  0.80066037,\n",
            "        5.57100277,  0.82425303, 10.82211061,  1.36409712, 11.54525957,\n",
            "        1.30511575,  3.73662014,  1.05971951,  4.75871143,  0.96078787,\n",
            "       11.63526497,  1.4854435 , 13.37347474,  1.11229253,  5.39667487,\n",
            "        0.93802409,  5.40499845,  0.91654973, 11.69485416,  1.28244987,\n",
            "       10.12973876,  1.49001765,  1.47765269,  1.1428803 ,  2.89816647,\n",
            "        1.18634567,  6.40322542,  1.09271183,  6.55280085,  1.30775933,\n",
            "        2.87268982,  1.48162246,  4.23276134,  1.3857357 ,  5.0012578 ,\n",
            "        3.06131229,  6.10698848,  2.60438833,  2.15548286,  1.13597717,\n",
            "        3.72357225,  0.98819041,  5.21572671,  1.04584589,  6.44273448,\n",
            "        0.98277192,  3.54171224,  2.05067172,  3.99958134,  1.55599756,\n",
            "        4.85524325,  2.74579482,  3.92979698,  2.23441072]), 'std_fit_time': array([1.15630365, 0.19360822, 1.8617007 , 0.22839613, 2.50520175,\n",
            "       0.38380327, 4.38635136, 0.31786794, 1.76833098, 0.34964176,\n",
            "       1.62164688, 0.26627645, 2.91776168, 0.30039265, 2.45159048,\n",
            "       0.33499616, 1.49507782, 0.14986406, 0.83378526, 0.37983231,\n",
            "       4.68955195, 0.70344769, 4.04156559, 0.26881814, 3.07142682,\n",
            "       0.35355582, 1.01284802, 0.30539094, 3.02337161, 0.15097527,\n",
            "       3.03641166, 0.44623515, 0.58661212, 0.38960131, 1.19853511,\n",
            "       0.19392331, 3.05197491, 0.25300789, 2.53435196, 0.5792388 ,\n",
            "       1.25617647, 0.46699167, 1.26171642, 0.25519416, 1.6035508 ,\n",
            "       1.33434685, 1.49225964, 0.88326295, 1.18040053, 0.40199998,\n",
            "       1.5955511 , 0.18278619, 1.38252349, 0.64751064, 1.00049385,\n",
            "       0.21634255, 2.00562884, 1.39771636, 1.20270075, 0.51720581,\n",
            "       0.72079236, 0.95018006, 0.44768635, 0.68789502]), 'mean_score_time': array([0.00400324, 0.00360451, 0.00450854, 0.00399442, 0.00490832,\n",
            "       0.00490799, 0.00451169, 0.00461411, 0.00430403, 0.0042119 ,\n",
            "       0.00440602, 0.0061151 , 0.00570765, 0.00550623, 0.00458894,\n",
            "       0.00519419, 0.00370626, 0.00470972, 0.00400505, 0.00380511,\n",
            "       0.00490451, 0.00460386, 0.00569024, 0.0053432 , 0.00501924,\n",
            "       0.00460505, 0.00489535, 0.00441227, 0.00520492, 0.00574441,\n",
            "       0.00510268, 0.00590196, 0.00420775, 0.0032022 , 0.00380216,\n",
            "       0.00471182, 0.00490389, 0.00439353, 0.00479593, 0.00400896,\n",
            "       0.00591011, 0.00370488, 0.00480475, 0.00370822, 0.00440345,\n",
            "       0.00517311, 0.00410829, 0.00641203, 0.00380659, 0.00441551,\n",
            "       0.00430269, 0.00350628, 0.0041048 , 0.00490313, 0.00462384,\n",
            "       0.00455098, 0.00410428, 0.00541348, 0.00329571, 0.00490494,\n",
            "       0.00286818, 0.00403934, 0.00222549, 0.00333638]), 'std_score_time': array([0.00054987, 0.00037277, 0.00202775, 0.00120514, 0.00096928,\n",
            "       0.00057832, 0.00041893, 0.00119885, 0.00046705, 0.00108041,\n",
            "       0.0008572 , 0.00449463, 0.00150664, 0.00070751, 0.00054985,\n",
            "       0.00175068, 0.00051394, 0.00039996, 0.00054449, 0.00068308,\n",
            "       0.00106959, 0.00131856, 0.00111365, 0.00174147, 0.00144075,\n",
            "       0.00106818, 0.00148142, 0.00073335, 0.00081026, 0.00046537,\n",
            "       0.00102198, 0.00200647, 0.00103141, 0.0003996 , 0.00024273,\n",
            "       0.00151136, 0.0011582 , 0.00100905, 0.00121143, 0.00054852,\n",
            "       0.00555835, 0.00060433, 0.00180364, 0.00051173, 0.00037462,\n",
            "       0.00079963, 0.00037363, 0.0022044 , 0.00050866, 0.00221828,\n",
            "       0.00040134, 0.00071646, 0.00080482, 0.00156146, 0.0009507 ,\n",
            "       0.00061629, 0.00079905, 0.00135761, 0.00076209, 0.00174266,\n",
            "       0.00093327, 0.00049835, 0.00039087, 0.00097223]), 'param_activation': masked_array(data=['tanh', 'tanh', 'tanh', 'tanh', 'tanh', 'tanh', 'tanh',\n",
            "                   'tanh', 'tanh', 'tanh', 'tanh', 'tanh', 'tanh', 'tanh',\n",
            "                   'tanh', 'tanh', 'tanh', 'tanh', 'tanh', 'tanh', 'tanh',\n",
            "                   'tanh', 'tanh', 'tanh', 'tanh', 'tanh', 'tanh', 'tanh',\n",
            "                   'tanh', 'tanh', 'tanh', 'tanh', 'relu', 'relu', 'relu',\n",
            "                   'relu', 'relu', 'relu', 'relu', 'relu', 'relu', 'relu',\n",
            "                   'relu', 'relu', 'relu', 'relu', 'relu', 'relu', 'relu',\n",
            "                   'relu', 'relu', 'relu', 'relu', 'relu', 'relu', 'relu',\n",
            "                   'relu', 'relu', 'relu', 'relu', 'relu', 'relu', 'relu',\n",
            "                   'relu'],\n",
            "             mask=[False, False, False, False, False, False, False, False,\n",
            "                   False, False, False, False, False, False, False, False,\n",
            "                   False, False, False, False, False, False, False, False,\n",
            "                   False, False, False, False, False, False, False, False,\n",
            "                   False, False, False, False, False, False, False, False,\n",
            "                   False, False, False, False, False, False, False, False,\n",
            "                   False, False, False, False, False, False, False, False,\n",
            "                   False, False, False, False, False, False, False, False],\n",
            "       fill_value='?',\n",
            "            dtype=object), 'param_alpha': masked_array(data=[0.0001, 0.0001, 0.0001, 0.0001, 0.0001, 0.0001, 0.0001,\n",
            "                   0.0001, 0.0001, 0.0001, 0.0001, 0.0001, 0.0001, 0.0001,\n",
            "                   0.0001, 0.0001, 0.05, 0.05, 0.05, 0.05, 0.05, 0.05,\n",
            "                   0.05, 0.05, 0.05, 0.05, 0.05, 0.05, 0.05, 0.05, 0.05,\n",
            "                   0.05, 0.0001, 0.0001, 0.0001, 0.0001, 0.0001, 0.0001,\n",
            "                   0.0001, 0.0001, 0.0001, 0.0001, 0.0001, 0.0001, 0.0001,\n",
            "                   0.0001, 0.0001, 0.0001, 0.05, 0.05, 0.05, 0.05, 0.05,\n",
            "                   0.05, 0.05, 0.05, 0.05, 0.05, 0.05, 0.05, 0.05, 0.05,\n",
            "                   0.05, 0.05],\n",
            "             mask=[False, False, False, False, False, False, False, False,\n",
            "                   False, False, False, False, False, False, False, False,\n",
            "                   False, False, False, False, False, False, False, False,\n",
            "                   False, False, False, False, False, False, False, False,\n",
            "                   False, False, False, False, False, False, False, False,\n",
            "                   False, False, False, False, False, False, False, False,\n",
            "                   False, False, False, False, False, False, False, False,\n",
            "                   False, False, False, False, False, False, False, False],\n",
            "       fill_value=1e+20), 'param_hidden_layer_sizes': masked_array(data=[(50,), (50,), (50,), (50,), (100,), (100,), (100,),\n",
            "                   (100,), (50, 50), (50, 50), (50, 50), (50, 50),\n",
            "                   (100, 50), (100, 50), (100, 50), (100, 50), (50,),\n",
            "                   (50,), (50,), (50,), (100,), (100,), (100,), (100,),\n",
            "                   (50, 50), (50, 50), (50, 50), (50, 50), (100, 50),\n",
            "                   (100, 50), (100, 50), (100, 50), (50,), (50,), (50,),\n",
            "                   (50,), (100,), (100,), (100,), (100,), (50, 50),\n",
            "                   (50, 50), (50, 50), (50, 50), (100, 50), (100, 50),\n",
            "                   (100, 50), (100, 50), (50,), (50,), (50,), (50,),\n",
            "                   (100,), (100,), (100,), (100,), (50, 50), (50, 50),\n",
            "                   (50, 50), (50, 50), (100, 50), (100, 50), (100, 50),\n",
            "                   (100, 50)],\n",
            "             mask=[False, False, False, False, False, False, False, False,\n",
            "                   False, False, False, False, False, False, False, False,\n",
            "                   False, False, False, False, False, False, False, False,\n",
            "                   False, False, False, False, False, False, False, False,\n",
            "                   False, False, False, False, False, False, False, False,\n",
            "                   False, False, False, False, False, False, False, False,\n",
            "                   False, False, False, False, False, False, False, False,\n",
            "                   False, False, False, False, False, False, False, False],\n",
            "       fill_value='?',\n",
            "            dtype=object), 'param_learning_rate': masked_array(data=['constant', 'constant', 'adaptive', 'adaptive',\n",
            "                   'constant', 'constant', 'adaptive', 'adaptive',\n",
            "                   'constant', 'constant', 'adaptive', 'adaptive',\n",
            "                   'constant', 'constant', 'adaptive', 'adaptive',\n",
            "                   'constant', 'constant', 'adaptive', 'adaptive',\n",
            "                   'constant', 'constant', 'adaptive', 'adaptive',\n",
            "                   'constant', 'constant', 'adaptive', 'adaptive',\n",
            "                   'constant', 'constant', 'adaptive', 'adaptive',\n",
            "                   'constant', 'constant', 'adaptive', 'adaptive',\n",
            "                   'constant', 'constant', 'adaptive', 'adaptive',\n",
            "                   'constant', 'constant', 'adaptive', 'adaptive',\n",
            "                   'constant', 'constant', 'adaptive', 'adaptive',\n",
            "                   'constant', 'constant', 'adaptive', 'adaptive',\n",
            "                   'constant', 'constant', 'adaptive', 'adaptive',\n",
            "                   'constant', 'constant', 'adaptive', 'adaptive',\n",
            "                   'constant', 'constant', 'adaptive', 'adaptive'],\n",
            "             mask=[False, False, False, False, False, False, False, False,\n",
            "                   False, False, False, False, False, False, False, False,\n",
            "                   False, False, False, False, False, False, False, False,\n",
            "                   False, False, False, False, False, False, False, False,\n",
            "                   False, False, False, False, False, False, False, False,\n",
            "                   False, False, False, False, False, False, False, False,\n",
            "                   False, False, False, False, False, False, False, False,\n",
            "                   False, False, False, False, False, False, False, False],\n",
            "       fill_value='?',\n",
            "            dtype=object), 'param_solver': masked_array(data=['sgd', 'adam', 'sgd', 'adam', 'sgd', 'adam', 'sgd',\n",
            "                   'adam', 'sgd', 'adam', 'sgd', 'adam', 'sgd', 'adam',\n",
            "                   'sgd', 'adam', 'sgd', 'adam', 'sgd', 'adam', 'sgd',\n",
            "                   'adam', 'sgd', 'adam', 'sgd', 'adam', 'sgd', 'adam',\n",
            "                   'sgd', 'adam', 'sgd', 'adam', 'sgd', 'adam', 'sgd',\n",
            "                   'adam', 'sgd', 'adam', 'sgd', 'adam', 'sgd', 'adam',\n",
            "                   'sgd', 'adam', 'sgd', 'adam', 'sgd', 'adam', 'sgd',\n",
            "                   'adam', 'sgd', 'adam', 'sgd', 'adam', 'sgd', 'adam',\n",
            "                   'sgd', 'adam', 'sgd', 'adam', 'sgd', 'adam', 'sgd',\n",
            "                   'adam'],\n",
            "             mask=[False, False, False, False, False, False, False, False,\n",
            "                   False, False, False, False, False, False, False, False,\n",
            "                   False, False, False, False, False, False, False, False,\n",
            "                   False, False, False, False, False, False, False, False,\n",
            "                   False, False, False, False, False, False, False, False,\n",
            "                   False, False, False, False, False, False, False, False,\n",
            "                   False, False, False, False, False, False, False, False,\n",
            "                   False, False, False, False, False, False, False, False],\n",
            "       fill_value='?',\n",
            "            dtype=object), 'params': [{'activation': 'tanh', 'alpha': 0.0001, 'hidden_layer_sizes': (50,), 'learning_rate': 'constant', 'solver': 'sgd'}, {'activation': 'tanh', 'alpha': 0.0001, 'hidden_layer_sizes': (50,), 'learning_rate': 'constant', 'solver': 'adam'}, {'activation': 'tanh', 'alpha': 0.0001, 'hidden_layer_sizes': (50,), 'learning_rate': 'adaptive', 'solver': 'sgd'}, {'activation': 'tanh', 'alpha': 0.0001, 'hidden_layer_sizes': (50,), 'learning_rate': 'adaptive', 'solver': 'adam'}, {'activation': 'tanh', 'alpha': 0.0001, 'hidden_layer_sizes': (100,), 'learning_rate': 'constant', 'solver': 'sgd'}, {'activation': 'tanh', 'alpha': 0.0001, 'hidden_layer_sizes': (100,), 'learning_rate': 'constant', 'solver': 'adam'}, {'activation': 'tanh', 'alpha': 0.0001, 'hidden_layer_sizes': (100,), 'learning_rate': 'adaptive', 'solver': 'sgd'}, {'activation': 'tanh', 'alpha': 0.0001, 'hidden_layer_sizes': (100,), 'learning_rate': 'adaptive', 'solver': 'adam'}, {'activation': 'tanh', 'alpha': 0.0001, 'hidden_layer_sizes': (50, 50), 'learning_rate': 'constant', 'solver': 'sgd'}, {'activation': 'tanh', 'alpha': 0.0001, 'hidden_layer_sizes': (50, 50), 'learning_rate': 'constant', 'solver': 'adam'}, {'activation': 'tanh', 'alpha': 0.0001, 'hidden_layer_sizes': (50, 50), 'learning_rate': 'adaptive', 'solver': 'sgd'}, {'activation': 'tanh', 'alpha': 0.0001, 'hidden_layer_sizes': (50, 50), 'learning_rate': 'adaptive', 'solver': 'adam'}, {'activation': 'tanh', 'alpha': 0.0001, 'hidden_layer_sizes': (100, 50), 'learning_rate': 'constant', 'solver': 'sgd'}, {'activation': 'tanh', 'alpha': 0.0001, 'hidden_layer_sizes': (100, 50), 'learning_rate': 'constant', 'solver': 'adam'}, {'activation': 'tanh', 'alpha': 0.0001, 'hidden_layer_sizes': (100, 50), 'learning_rate': 'adaptive', 'solver': 'sgd'}, {'activation': 'tanh', 'alpha': 0.0001, 'hidden_layer_sizes': (100, 50), 'learning_rate': 'adaptive', 'solver': 'adam'}, {'activation': 'tanh', 'alpha': 0.05, 'hidden_layer_sizes': (50,), 'learning_rate': 'constant', 'solver': 'sgd'}, {'activation': 'tanh', 'alpha': 0.05, 'hidden_layer_sizes': (50,), 'learning_rate': 'constant', 'solver': 'adam'}, {'activation': 'tanh', 'alpha': 0.05, 'hidden_layer_sizes': (50,), 'learning_rate': 'adaptive', 'solver': 'sgd'}, {'activation': 'tanh', 'alpha': 0.05, 'hidden_layer_sizes': (50,), 'learning_rate': 'adaptive', 'solver': 'adam'}, {'activation': 'tanh', 'alpha': 0.05, 'hidden_layer_sizes': (100,), 'learning_rate': 'constant', 'solver': 'sgd'}, {'activation': 'tanh', 'alpha': 0.05, 'hidden_layer_sizes': (100,), 'learning_rate': 'constant', 'solver': 'adam'}, {'activation': 'tanh', 'alpha': 0.05, 'hidden_layer_sizes': (100,), 'learning_rate': 'adaptive', 'solver': 'sgd'}, {'activation': 'tanh', 'alpha': 0.05, 'hidden_layer_sizes': (100,), 'learning_rate': 'adaptive', 'solver': 'adam'}, {'activation': 'tanh', 'alpha': 0.05, 'hidden_layer_sizes': (50, 50), 'learning_rate': 'constant', 'solver': 'sgd'}, {'activation': 'tanh', 'alpha': 0.05, 'hidden_layer_sizes': (50, 50), 'learning_rate': 'constant', 'solver': 'adam'}, {'activation': 'tanh', 'alpha': 0.05, 'hidden_layer_sizes': (50, 50), 'learning_rate': 'adaptive', 'solver': 'sgd'}, {'activation': 'tanh', 'alpha': 0.05, 'hidden_layer_sizes': (50, 50), 'learning_rate': 'adaptive', 'solver': 'adam'}, {'activation': 'tanh', 'alpha': 0.05, 'hidden_layer_sizes': (100, 50), 'learning_rate': 'constant', 'solver': 'sgd'}, {'activation': 'tanh', 'alpha': 0.05, 'hidden_layer_sizes': (100, 50), 'learning_rate': 'constant', 'solver': 'adam'}, {'activation': 'tanh', 'alpha': 0.05, 'hidden_layer_sizes': (100, 50), 'learning_rate': 'adaptive', 'solver': 'sgd'}, {'activation': 'tanh', 'alpha': 0.05, 'hidden_layer_sizes': (100, 50), 'learning_rate': 'adaptive', 'solver': 'adam'}, {'activation': 'relu', 'alpha': 0.0001, 'hidden_layer_sizes': (50,), 'learning_rate': 'constant', 'solver': 'sgd'}, {'activation': 'relu', 'alpha': 0.0001, 'hidden_layer_sizes': (50,), 'learning_rate': 'constant', 'solver': 'adam'}, {'activation': 'relu', 'alpha': 0.0001, 'hidden_layer_sizes': (50,), 'learning_rate': 'adaptive', 'solver': 'sgd'}, {'activation': 'relu', 'alpha': 0.0001, 'hidden_layer_sizes': (50,), 'learning_rate': 'adaptive', 'solver': 'adam'}, {'activation': 'relu', 'alpha': 0.0001, 'hidden_layer_sizes': (100,), 'learning_rate': 'constant', 'solver': 'sgd'}, {'activation': 'relu', 'alpha': 0.0001, 'hidden_layer_sizes': (100,), 'learning_rate': 'constant', 'solver': 'adam'}, {'activation': 'relu', 'alpha': 0.0001, 'hidden_layer_sizes': (100,), 'learning_rate': 'adaptive', 'solver': 'sgd'}, {'activation': 'relu', 'alpha': 0.0001, 'hidden_layer_sizes': (100,), 'learning_rate': 'adaptive', 'solver': 'adam'}, {'activation': 'relu', 'alpha': 0.0001, 'hidden_layer_sizes': (50, 50), 'learning_rate': 'constant', 'solver': 'sgd'}, {'activation': 'relu', 'alpha': 0.0001, 'hidden_layer_sizes': (50, 50), 'learning_rate': 'constant', 'solver': 'adam'}, {'activation': 'relu', 'alpha': 0.0001, 'hidden_layer_sizes': (50, 50), 'learning_rate': 'adaptive', 'solver': 'sgd'}, {'activation': 'relu', 'alpha': 0.0001, 'hidden_layer_sizes': (50, 50), 'learning_rate': 'adaptive', 'solver': 'adam'}, {'activation': 'relu', 'alpha': 0.0001, 'hidden_layer_sizes': (100, 50), 'learning_rate': 'constant', 'solver': 'sgd'}, {'activation': 'relu', 'alpha': 0.0001, 'hidden_layer_sizes': (100, 50), 'learning_rate': 'constant', 'solver': 'adam'}, {'activation': 'relu', 'alpha': 0.0001, 'hidden_layer_sizes': (100, 50), 'learning_rate': 'adaptive', 'solver': 'sgd'}, {'activation': 'relu', 'alpha': 0.0001, 'hidden_layer_sizes': (100, 50), 'learning_rate': 'adaptive', 'solver': 'adam'}, {'activation': 'relu', 'alpha': 0.05, 'hidden_layer_sizes': (50,), 'learning_rate': 'constant', 'solver': 'sgd'}, {'activation': 'relu', 'alpha': 0.05, 'hidden_layer_sizes': (50,), 'learning_rate': 'constant', 'solver': 'adam'}, {'activation': 'relu', 'alpha': 0.05, 'hidden_layer_sizes': (50,), 'learning_rate': 'adaptive', 'solver': 'sgd'}, {'activation': 'relu', 'alpha': 0.05, 'hidden_layer_sizes': (50,), 'learning_rate': 'adaptive', 'solver': 'adam'}, {'activation': 'relu', 'alpha': 0.05, 'hidden_layer_sizes': (100,), 'learning_rate': 'constant', 'solver': 'sgd'}, {'activation': 'relu', 'alpha': 0.05, 'hidden_layer_sizes': (100,), 'learning_rate': 'constant', 'solver': 'adam'}, {'activation': 'relu', 'alpha': 0.05, 'hidden_layer_sizes': (100,), 'learning_rate': 'adaptive', 'solver': 'sgd'}, {'activation': 'relu', 'alpha': 0.05, 'hidden_layer_sizes': (100,), 'learning_rate': 'adaptive', 'solver': 'adam'}, {'activation': 'relu', 'alpha': 0.05, 'hidden_layer_sizes': (50, 50), 'learning_rate': 'constant', 'solver': 'sgd'}, {'activation': 'relu', 'alpha': 0.05, 'hidden_layer_sizes': (50, 50), 'learning_rate': 'constant', 'solver': 'adam'}, {'activation': 'relu', 'alpha': 0.05, 'hidden_layer_sizes': (50, 50), 'learning_rate': 'adaptive', 'solver': 'sgd'}, {'activation': 'relu', 'alpha': 0.05, 'hidden_layer_sizes': (50, 50), 'learning_rate': 'adaptive', 'solver': 'adam'}, {'activation': 'relu', 'alpha': 0.05, 'hidden_layer_sizes': (100, 50), 'learning_rate': 'constant', 'solver': 'sgd'}, {'activation': 'relu', 'alpha': 0.05, 'hidden_layer_sizes': (100, 50), 'learning_rate': 'constant', 'solver': 'adam'}, {'activation': 'relu', 'alpha': 0.05, 'hidden_layer_sizes': (100, 50), 'learning_rate': 'adaptive', 'solver': 'sgd'}, {'activation': 'relu', 'alpha': 0.05, 'hidden_layer_sizes': (100, 50), 'learning_rate': 'adaptive', 'solver': 'adam'}], 'split0_test_score': array([0.95336788, 0.95287958, 0.95336788, 0.95287958, 0.95431472,\n",
            "       0.94300518, 0.95431472, 0.94300518, 0.93939394, 0.91304348,\n",
            "       0.94358974, 0.91304348, 0.95959596, 0.93467337, 0.95959596,\n",
            "       0.93467337, 0.95336788, 0.93      , 0.95336788, 0.93      ,\n",
            "       0.95431472, 0.9375    , 0.95431472, 0.9375    , 0.94897959,\n",
            "       0.92929293, 0.94845361, 0.92929293, 0.95959596, 0.92      ,\n",
            "       0.95959596, 0.92      , 0.93617021, 0.95431472, 0.95384615,\n",
            "       0.95431472, 0.96      , 0.95789474, 0.96482412, 0.95789474,\n",
            "       0.96875   , 0.96938776, 0.96446701, 0.96938776, 0.96938776,\n",
            "       0.95431472, 0.96938776, 0.95431472, 0.95049505, 0.95      ,\n",
            "       0.96482412, 0.95      , 0.96482412, 0.95238095, 0.96482412,\n",
            "       0.95238095, 0.96335079, 0.93137255, 0.96446701, 0.93137255,\n",
            "       0.97461929, 0.94949495, 0.97461929, 0.94949495]), 'split1_test_score': array([0.94845361, 0.93814433, 0.94845361, 0.93814433, 0.95384615,\n",
            "       0.92783505, 0.95384615, 0.92783505, 0.92063492, 0.92783505,\n",
            "       0.94416244, 0.92783505, 0.94897959, 0.91282051, 0.94897959,\n",
            "       0.91282051, 0.94845361, 0.91578947, 0.94845361, 0.91578947,\n",
            "       0.95833333, 0.92708333, 0.95384615, 0.92708333, 0.94416244,\n",
            "       0.93193717, 0.94416244, 0.93193717, 0.94897959, 0.91836735,\n",
            "       0.94897959, 0.91836735, 0.94179894, 0.95098039, 0.93939394,\n",
            "       0.95098039, 0.95918367, 0.94949495, 0.94949495, 0.94949495,\n",
            "       0.94845361, 0.93814433, 0.94845361, 0.93814433, 0.95384615,\n",
            "       0.94949495, 0.94845361, 0.94949495, 0.94179894, 0.93939394,\n",
            "       0.93939394, 0.93939394, 0.95918367, 0.94117647, 0.94949495,\n",
            "       0.94117647, 0.95384615, 0.93333333, 0.95431472, 0.93333333,\n",
            "       0.95384615, 0.94472362, 0.95384615, 0.94472362]), 'split2_test_score': array([0.94845361, 0.93333333, 0.94300518, 0.93333333, 0.94845361,\n",
            "       0.93532338, 0.94845361, 0.93532338, 0.93264249, 0.9197861 ,\n",
            "       0.94358974, 0.9197861 , 0.95876289, 0.90909091, 0.94845361,\n",
            "       0.90909091, 0.94845361, 0.92783505, 0.94300518, 0.92783505,\n",
            "       0.94845361, 0.9375    , 0.94845361, 0.9375    , 0.93264249,\n",
            "       0.91542289, 0.94845361, 0.91542289, 0.95876289, 0.91752577,\n",
            "       0.95336788, 0.91752577, 0.91397849, 0.93814433, 0.93814433,\n",
            "       0.93814433, 0.95287958, 0.96446701, 0.95287958, 0.96446701,\n",
            "       0.95431472, 0.94300518, 0.94897959, 0.94300518, 0.94240838,\n",
            "       0.95287958, 0.94240838, 0.95287958, 0.91397849, 0.94527363,\n",
            "       0.94845361, 0.94527363, 0.95833333, 0.96446701, 0.96373057,\n",
            "       0.96446701, 0.94845361, 0.94736842, 0.95431472, 0.94736842,\n",
            "       0.94791667, 0.95918367, 0.94240838, 0.95918367]), 'split3_test_score': array([0.95384615, 0.91578947, 0.95384615, 0.91578947, 0.96938776,\n",
            "       0.93684211, 0.96938776, 0.93684211, 0.95287958, 0.93877551,\n",
            "       0.95336788, 0.93877551, 0.95336788, 0.93121693, 0.95336788,\n",
            "       0.93121693, 0.95384615, 0.94791667, 0.95384615, 0.94791667,\n",
            "       0.96938776, 0.92631579, 0.96938776, 0.92631579, 0.95287958,\n",
            "       0.8989899 , 0.95336788, 0.8989899 , 0.95336788, 0.90322581,\n",
            "       0.95336788, 0.90322581, 0.91304348, 0.97461929, 0.94845361,\n",
            "       0.97461929, 0.97382199, 0.96039604, 0.96875   , 0.96039604,\n",
            "       0.97959184, 0.97938144, 0.97435897, 0.97938144, 0.97916667,\n",
            "       0.92822967, 0.97916667, 0.92822967, 0.91304348, 0.96446701,\n",
            "       0.94845361, 0.96446701, 0.97382199, 0.95566502, 0.96875   ,\n",
            "       0.95566502, 0.97461929, 0.97435897, 0.97435897, 0.97435897,\n",
            "       0.97916667, 0.97916667, 0.97916667, 0.97916667]), 'split4_test_score': array([0.93467337, 0.92857143, 0.93467337, 0.92857143, 0.94      ,\n",
            "       0.92307692, 0.94472362, 0.92307692, 0.93814433, 0.91208791,\n",
            "       0.93814433, 0.91208791, 0.94059406, 0.85185185, 0.94059406,\n",
            "       0.85185185, 0.93467337, 0.92307692, 0.93467337, 0.92307692,\n",
            "       0.94      , 0.93264249, 0.94      , 0.93264249, 0.93814433,\n",
            "       0.89655172, 0.93814433, 0.89655172, 0.94      , 0.88995215,\n",
            "       0.94059406, 0.88995215, 0.91542289, 0.95789474, 0.91542289,\n",
            "       0.95789474, 0.94      , 0.95918367, 0.94      , 0.95918367,\n",
            "       0.92537313, 0.94949495, 0.92537313, 0.94949495, 0.95      ,\n",
            "       0.96335079, 0.95      , 0.96335079, 0.91542289, 0.96373057,\n",
            "       0.91542289, 0.96373057, 0.94      , 0.92156863, 0.94472362,\n",
            "       0.92156863, 0.92079208, 0.94897959, 0.92079208, 0.94897959,\n",
            "       0.95      , 0.96256684, 0.95      , 0.96256684]), 'mean_test_score': array([0.94775892, 0.93374363, 0.94666924, 0.93374363, 0.95320045,\n",
            "       0.93321653, 0.95414517, 0.93321653, 0.93673905, 0.92230561,\n",
            "       0.94457083, 0.92230561, 0.95226007, 0.90793071, 0.95019822,\n",
            "       0.90793071, 0.94775892, 0.92892362, 0.94666924, 0.92892362,\n",
            "       0.95409788, 0.93220832, 0.95320045, 0.93220832, 0.94336169,\n",
            "       0.91443892, 0.94651637, 0.91443892, 0.95214126, 0.90981422,\n",
            "       0.95118107, 0.90981422, 0.9240828 , 0.95519069, 0.93905218,\n",
            "       0.95519069, 0.95717705, 0.95828728, 0.95518973, 0.95828728,\n",
            "       0.95529666, 0.95588273, 0.95232646, 0.95588273, 0.95896179,\n",
            "       0.94965394, 0.95788328, 0.94965394, 0.92694777, 0.95257303,\n",
            "       0.94330963, 0.95257303, 0.95923262, 0.94705162, 0.95830465,\n",
            "       0.94705162, 0.95221238, 0.94708257, 0.9536495 , 0.94708257,\n",
            "       0.96110976, 0.95902715, 0.9600081 , 0.95902715]), 'std_test_score': array([0.00693847, 0.01212289, 0.00716785, 0.01212289, 0.00959658,\n",
            "       0.00700247, 0.00840969, 0.00700247, 0.01044667, 0.00998367,\n",
            "       0.00491487, 0.00998367, 0.00698837, 0.02975739, 0.00624712,\n",
            "       0.02975739, 0.00693847, 0.01067492, 0.00716785, 0.01067492,\n",
            "       0.00982216, 0.00484107, 0.00959658, 0.00484107, 0.00727893,\n",
            "       0.01474057, 0.00510061, 0.01474057, 0.0071879 , 0.01161278,\n",
            "       0.00628181, 0.01161278, 0.01232011, 0.01178011, 0.0131646 ,\n",
            "       0.01178011, 0.01097788, 0.00491729, 0.0104422 , 0.00491729,\n",
            "       0.01851733, 0.01584841, 0.01664636, 0.01584841, 0.01339729,\n",
            "       0.01165123, 0.01397049, 0.01165123, 0.01593352, 0.00999547,\n",
            "       0.01617898, 0.00999547, 0.01108891, 0.01476339, 0.00941387,\n",
            "       0.01476339, 0.01805639, 0.01538525, 0.0180355 , 0.01538525,\n",
            "       0.01310575, 0.01194661, 0.01434168, 0.01194661]), 'rank_test_score': array([33, 47, 39, 47, 21, 49, 18, 49, 46, 57, 42, 57, 26, 63, 30, 63, 33,\n",
            "       53, 39, 53, 19, 51, 21, 51, 43, 59, 41, 59, 28, 61, 29, 61, 56, 15,\n",
            "       45, 15, 11,  8, 17,  8, 14, 12, 25, 12,  6, 31, 10, 31, 55, 23, 44,\n",
            "       23,  3, 37,  7, 37, 27, 35, 20, 35,  1,  4,  2,  4])}\n",
            "Mejores hiperparámetros: {'activation': 'relu', 'alpha': 0.05, 'hidden_layer_sizes': (100, 50), 'learning_rate': 'constant', 'solver': 'sgd'}\n"
          ]
        }
      ],
      "source": [
        "print(\"Mejor modelo:\", best_mlp_model)\n",
        "print(\"cv_results:\", cv_results_mlp)\n",
        "print(\"Mejores hiperparámetros:\", grid_search_mlp.best_params_)"
      ]
    },
    {
      "cell_type": "markdown",
      "metadata": {
        "id": "CFzWbu6PyhHO"
      },
      "source": [
        "# Evaluación con Cross-Validation"
      ]
    },
    {
      "cell_type": "code",
      "execution_count": 41,
      "metadata": {
        "id": "jqhgHrKnyiHg"
      },
      "outputs": [],
      "source": [
        "# TODO: check si es realmente necesario. En teoría, ya se hizo en las celdas anteriores con el 'cv'\n",
        "\n",
        "# from sklearn.model_selection import cross_val_score\n",
        "\n",
        "# # Random Forest\n",
        "# scores_rf = cross_val_score(best_rf_model, X_train, y_train, cv=5, scoring='accuracy')\n",
        "\n",
        "# # Gradient Boosting\n",
        "# scores_gb = cross_val_score(best_gb_model, X_train, y_train, cv=5, scoring='accuracy')\n",
        "\n",
        "# # Árboles de decisión\n",
        "# scores_dt = cross_val_score(best_dt_model, X_train, y_train, cv=5, scoring='accuracy')\n",
        "\n",
        "# # Regresión logística\n",
        "# scores_lr = cross_val_score(best_lr_model, X_train, y_train, cv=5, scoring='accuracy')\n",
        "\n",
        "# # Redes neuronales\n",
        "# scores_mlp = cross_val_score(best_mlp_model, X_train, y_train, cv=5, scoring='accuracy')\n",
        "\n",
        "# print(\"Cross-Validation Accuracy Scores (RF):\", np.mean(scores_rf))\n",
        "# print(\"Cross-Validation Accuracy Scores (GB):\", np.mean(scores_gb))\n",
        "# print(\"Cross-Validation Accuracy Scores (DT):\", np.mean(scores_dt))\n",
        "# print(\"Cross-Validation Accuracy Scores (LR):\", np.mean(scores_lr))\n",
        "# print(\"Cross-Validation Accuracy Scores (MLP):\", np.mean(scores_mlp))\n"
      ]
    },
    {
      "cell_type": "markdown",
      "metadata": {},
      "source": [
        "# Kaggle"
      ]
    },
    {
      "cell_type": "markdown",
      "metadata": {},
      "source": [
        "### Test con Gradient Boosting"
      ]
    },
    {
      "cell_type": "code",
      "execution_count": 46,
      "metadata": {},
      "outputs": [
        {
          "name": "stdout",
          "output_type": "stream",
          "text": [
            "# Test Kaggle: 7920\n"
          ]
        },
        {
          "name": "stderr",
          "output_type": "stream",
          "text": [
            "  0%|          | 0/7920 [00:00<?, ?it/s]"
          ]
        },
        {
          "name": "stderr",
          "output_type": "stream",
          "text": [
            "100%|██████████| 7920/7920 [00:01<00:00, 6031.89it/s]\n"
          ]
        }
      ],
      "source": [
        "import os\n",
        "import matplotlib.pyplot as plt\n",
        "from tqdm import tqdm\n",
        "from skimage.transform import resize\n",
        "from skimage.exposure import equalize_hist\n",
        "\n",
        "suffix = '.pgm'\n",
        "size = (20, 32)  # Ajusta el tamaño deseado para redimensionar las imágenes\n",
        "\n",
        "# Verificar si estamos en el entorno de Kaggle\n",
        "test_kaggle_path = 'input/obligatorio-mlia-2024/Test/Test'\n",
        "test_kaggle = os.listdir(test_kaggle_path)\n",
        "test_kaggle = [filename for filename in test_kaggle if filename.endswith(suffix)]\n",
        "\n",
        "print(f'# Test Kaggle: {len(test_kaggle)}')\n",
        "\n",
        "# Inicializar listas para IDs y las imágenes preprocesadas\n",
        "kaggle_id = []\n",
        "im_test_kaggle = []\n",
        "\n",
        "# Leer y preprocesar imágenes del conjunto de test de Kaggle\n",
        "for filename in tqdm(test_kaggle):\n",
        "    key = filename.replace('test_', '').replace('.pgm', '')\n",
        "    kaggle_id.append(key)\n",
        "    path = os.path.join(test_kaggle_path, filename)\n",
        "    with open(path, 'rb') as pgmf:\n",
        "        image = plt.imread(pgmf)\n",
        "        image = resize(image, size)\n",
        "    im_test_kaggle.append(image)\n",
        "\n",
        "# Normalizar las imágenes\n",
        "im_test_kaggle_norm = [equalize_hist(im_test_kaggle[i]) for i in range(len(im_test_kaggle))]\n"
      ]
    },
    {
      "cell_type": "code",
      "execution_count": 47,
      "metadata": {},
      "outputs": [],
      "source": [
        "import numpy as np\n",
        "\n",
        "# Aplanar las imágenes para que sean compatibles con el modelo de Gradient Boosting\n",
        "X_test_kaggle = np.array([img.flatten() for img in im_test_kaggle_norm])\n"
      ]
    },
    {
      "cell_type": "code",
      "execution_count": 48,
      "metadata": {},
      "outputs": [],
      "source": [
        "y_test_kaggle = best_gb_model.predict(X_test_kaggle)"
      ]
    },
    {
      "cell_type": "code",
      "execution_count": 49,
      "metadata": {},
      "outputs": [
        {
          "data": {
            "text/plain": [
              "(7920,)"
            ]
          },
          "execution_count": 49,
          "metadata": {},
          "output_type": "execute_result"
        }
      ],
      "source": [
        "y_test_kaggle.shape"
      ]
    },
    {
      "cell_type": "code",
      "execution_count": 50,
      "metadata": {},
      "outputs": [
        {
          "ename": "",
          "evalue": "",
          "output_type": "error",
          "traceback": [
            "\u001b[1;31mThe Kernel crashed while executing code in the the current cell or a previous cell. Please review the code in the cell(s) to identify a possible cause of the failure. Click <a href='https://aka.ms/vscodeJupyterKernelCrash'>here</a> for more info. View Jupyter <a href='command:jupyter.viewOutput'>log</a> for further details."
          ]
        }
      ],
      "source": [
        "import pandas as pd\n",
        "\n",
        "# Crear el DataFrame para la submission\n",
        "submission_kaggle = pd.DataFrame({'id': kaggle_id, 'target_feature': y_test_kaggle})\n",
        "\n",
        "# Exportar el DataFrame a un archivo CSV\n",
        "submission_kaggle.to_csv('submission.csv', index=False)\n"
      ]
    }
  ],
  "metadata": {
    "colab": {
      "provenance": []
    },
    "kernelspec": {
      "display_name": "base",
      "language": "python",
      "name": "python3"
    },
    "language_info": {
      "codemirror_mode": {
        "name": "ipython",
        "version": 3
      },
      "file_extension": ".py",
      "mimetype": "text/x-python",
      "name": "python",
      "nbconvert_exporter": "python",
      "pygments_lexer": "ipython3",
      "version": "3.12.1"
    }
  },
  "nbformat": 4,
  "nbformat_minor": 0
}
